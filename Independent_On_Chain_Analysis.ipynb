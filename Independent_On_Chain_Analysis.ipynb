{
  "nbformat": 4,
  "nbformat_minor": 0,
  "metadata": {
    "colab": {
      "provenance": [],
      "gpuType": "T4",
      "authorship_tag": "ABX9TyNtNpn9Vp+WbgOLL6+yWeN6",
      "include_colab_link": true
    },
    "kernelspec": {
      "name": "python3",
      "display_name": "Python 3"
    },
    "language_info": {
      "name": "python"
    },
    "accelerator": "GPU"
  },
  "cells": [
    {
      "cell_type": "markdown",
      "metadata": {
        "id": "view-in-github",
        "colab_type": "text"
      },
      "source": [
        "<a href=\"https://colab.research.google.com/github/jdeept/Financial-News/blob/main/Independent_On_Chain_Analysis.ipynb\" target=\"_parent\"><img src=\"https://colab.research.google.com/assets/colab-badge.svg\" alt=\"Open In Colab\"/></a>"
      ]
    },
    {
      "cell_type": "code",
      "source": [
        "!pip install web3 pandas matplotlib plotly requests\n"
      ],
      "metadata": {
        "colab": {
          "base_uri": "https://localhost:8080/"
        },
        "id": "7Vi46OGKw9T1",
        "outputId": "4bff16b7-bf6c-47f0-b365-49e4bec76b8b"
      },
      "execution_count": 1,
      "outputs": [
        {
          "output_type": "stream",
          "name": "stdout",
          "text": [
            "Collecting web3\n",
            "  Downloading web3-7.13.0-py3-none-any.whl.metadata (5.6 kB)\n",
            "Requirement already satisfied: pandas in /usr/local/lib/python3.12/dist-packages (2.2.2)\n",
            "Requirement already satisfied: matplotlib in /usr/local/lib/python3.12/dist-packages (3.10.0)\n",
            "Requirement already satisfied: plotly in /usr/local/lib/python3.12/dist-packages (5.24.1)\n",
            "Requirement already satisfied: requests in /usr/local/lib/python3.12/dist-packages (2.32.4)\n",
            "Collecting eth-abi>=5.0.1 (from web3)\n",
            "  Downloading eth_abi-5.2.0-py3-none-any.whl.metadata (3.8 kB)\n",
            "Collecting eth-account>=0.13.6 (from web3)\n",
            "  Downloading eth_account-0.13.7-py3-none-any.whl.metadata (3.7 kB)\n",
            "Collecting eth-hash>=0.5.1 (from eth-hash[pycryptodome]>=0.5.1->web3)\n",
            "  Downloading eth_hash-0.7.1-py3-none-any.whl.metadata (4.2 kB)\n",
            "Collecting eth-typing>=5.0.0 (from web3)\n",
            "  Downloading eth_typing-5.2.1-py3-none-any.whl.metadata (3.2 kB)\n",
            "Collecting eth-utils>=5.0.0 (from web3)\n",
            "  Downloading eth_utils-5.3.0-py3-none-any.whl.metadata (5.7 kB)\n",
            "Collecting hexbytes>=1.2.0 (from web3)\n",
            "  Downloading hexbytes-1.3.1-py3-none-any.whl.metadata (3.3 kB)\n",
            "Requirement already satisfied: aiohttp>=3.7.4.post0 in /usr/local/lib/python3.12/dist-packages (from web3) (3.12.15)\n",
            "Requirement already satisfied: pydantic>=2.4.0 in /usr/local/lib/python3.12/dist-packages (from web3) (2.11.7)\n",
            "Requirement already satisfied: typing-extensions>=4.0.1 in /usr/local/lib/python3.12/dist-packages (from web3) (4.14.1)\n",
            "Collecting types-requests>=2.0.0 (from web3)\n",
            "  Downloading types_requests-2.32.4.20250809-py3-none-any.whl.metadata (2.0 kB)\n",
            "Requirement already satisfied: websockets<16.0.0,>=10.0.0 in /usr/local/lib/python3.12/dist-packages (from web3) (15.0.1)\n",
            "Collecting pyunormalize>=15.0.0 (from web3)\n",
            "  Downloading pyunormalize-16.0.0-py3-none-any.whl.metadata (4.0 kB)\n",
            "Requirement already satisfied: numpy>=1.26.0 in /usr/local/lib/python3.12/dist-packages (from pandas) (2.0.2)\n",
            "Requirement already satisfied: python-dateutil>=2.8.2 in /usr/local/lib/python3.12/dist-packages (from pandas) (2.9.0.post0)\n",
            "Requirement already satisfied: pytz>=2020.1 in /usr/local/lib/python3.12/dist-packages (from pandas) (2025.2)\n",
            "Requirement already satisfied: tzdata>=2022.7 in /usr/local/lib/python3.12/dist-packages (from pandas) (2025.2)\n",
            "Requirement already satisfied: contourpy>=1.0.1 in /usr/local/lib/python3.12/dist-packages (from matplotlib) (1.3.3)\n",
            "Requirement already satisfied: cycler>=0.10 in /usr/local/lib/python3.12/dist-packages (from matplotlib) (0.12.1)\n",
            "Requirement already satisfied: fonttools>=4.22.0 in /usr/local/lib/python3.12/dist-packages (from matplotlib) (4.59.1)\n",
            "Requirement already satisfied: kiwisolver>=1.3.1 in /usr/local/lib/python3.12/dist-packages (from matplotlib) (1.4.9)\n",
            "Requirement already satisfied: packaging>=20.0 in /usr/local/lib/python3.12/dist-packages (from matplotlib) (25.0)\n",
            "Requirement already satisfied: pillow>=8 in /usr/local/lib/python3.12/dist-packages (from matplotlib) (11.3.0)\n",
            "Requirement already satisfied: pyparsing>=2.3.1 in /usr/local/lib/python3.12/dist-packages (from matplotlib) (3.2.3)\n",
            "Requirement already satisfied: tenacity>=6.2.0 in /usr/local/lib/python3.12/dist-packages (from plotly) (8.5.0)\n",
            "Requirement already satisfied: charset_normalizer<4,>=2 in /usr/local/lib/python3.12/dist-packages (from requests) (3.4.3)\n",
            "Requirement already satisfied: idna<4,>=2.5 in /usr/local/lib/python3.12/dist-packages (from requests) (3.10)\n",
            "Requirement already satisfied: urllib3<3,>=1.21.1 in /usr/local/lib/python3.12/dist-packages (from requests) (2.5.0)\n",
            "Requirement already satisfied: certifi>=2017.4.17 in /usr/local/lib/python3.12/dist-packages (from requests) (2025.8.3)\n",
            "Requirement already satisfied: aiohappyeyeballs>=2.5.0 in /usr/local/lib/python3.12/dist-packages (from aiohttp>=3.7.4.post0->web3) (2.6.1)\n",
            "Requirement already satisfied: aiosignal>=1.4.0 in /usr/local/lib/python3.12/dist-packages (from aiohttp>=3.7.4.post0->web3) (1.4.0)\n",
            "Requirement already satisfied: attrs>=17.3.0 in /usr/local/lib/python3.12/dist-packages (from aiohttp>=3.7.4.post0->web3) (25.3.0)\n",
            "Requirement already satisfied: frozenlist>=1.1.1 in /usr/local/lib/python3.12/dist-packages (from aiohttp>=3.7.4.post0->web3) (1.7.0)\n",
            "Requirement already satisfied: multidict<7.0,>=4.5 in /usr/local/lib/python3.12/dist-packages (from aiohttp>=3.7.4.post0->web3) (6.6.4)\n",
            "Requirement already satisfied: propcache>=0.2.0 in /usr/local/lib/python3.12/dist-packages (from aiohttp>=3.7.4.post0->web3) (0.3.2)\n",
            "Requirement already satisfied: yarl<2.0,>=1.17.0 in /usr/local/lib/python3.12/dist-packages (from aiohttp>=3.7.4.post0->web3) (1.20.1)\n",
            "Collecting parsimonious<0.11.0,>=0.10.0 (from eth-abi>=5.0.1->web3)\n",
            "  Downloading parsimonious-0.10.0-py3-none-any.whl.metadata (25 kB)\n",
            "Collecting bitarray>=2.4.0 (from eth-account>=0.13.6->web3)\n",
            "  Downloading bitarray-3.7.0-cp312-cp312-manylinux_2_17_x86_64.manylinux2014_x86_64.whl.metadata (35 kB)\n",
            "Collecting eth-keyfile<0.9.0,>=0.7.0 (from eth-account>=0.13.6->web3)\n",
            "  Downloading eth_keyfile-0.8.1-py3-none-any.whl.metadata (8.5 kB)\n",
            "Collecting eth-keys>=0.4.0 (from eth-account>=0.13.6->web3)\n",
            "  Downloading eth_keys-0.7.0-py3-none-any.whl.metadata (13 kB)\n",
            "Collecting eth-rlp>=2.1.0 (from eth-account>=0.13.6->web3)\n",
            "  Downloading eth_rlp-2.2.0-py3-none-any.whl.metadata (3.3 kB)\n",
            "Collecting rlp>=1.0.0 (from eth-account>=0.13.6->web3)\n",
            "  Downloading rlp-4.1.0-py3-none-any.whl.metadata (3.2 kB)\n",
            "Collecting ckzg>=2.0.0 (from eth-account>=0.13.6->web3)\n",
            "  Downloading ckzg-2.1.1-cp312-cp312-manylinux_2_17_x86_64.manylinux2014_x86_64.whl.metadata (887 bytes)\n",
            "Collecting pycryptodome<4,>=3.6.6 (from eth-hash[pycryptodome]>=0.5.1->web3)\n",
            "  Downloading pycryptodome-3.23.0-cp37-abi3-manylinux_2_17_x86_64.manylinux2014_x86_64.whl.metadata (3.4 kB)\n",
            "Collecting cytoolz>=0.10.1 (from eth-utils>=5.0.0->web3)\n",
            "  Downloading cytoolz-1.0.1-cp312-cp312-manylinux_2_17_x86_64.manylinux2014_x86_64.whl.metadata (4.6 kB)\n",
            "Requirement already satisfied: annotated-types>=0.6.0 in /usr/local/lib/python3.12/dist-packages (from pydantic>=2.4.0->web3) (0.7.0)\n",
            "Requirement already satisfied: pydantic-core==2.33.2 in /usr/local/lib/python3.12/dist-packages (from pydantic>=2.4.0->web3) (2.33.2)\n",
            "Requirement already satisfied: typing-inspection>=0.4.0 in /usr/local/lib/python3.12/dist-packages (from pydantic>=2.4.0->web3) (0.4.1)\n",
            "Requirement already satisfied: six>=1.5 in /usr/local/lib/python3.12/dist-packages (from python-dateutil>=2.8.2->pandas) (1.17.0)\n",
            "Requirement already satisfied: toolz>=0.8.0 in /usr/local/lib/python3.12/dist-packages (from cytoolz>=0.10.1->eth-utils>=5.0.0->web3) (0.12.1)\n",
            "Requirement already satisfied: regex>=2022.3.15 in /usr/local/lib/python3.12/dist-packages (from parsimonious<0.11.0,>=0.10.0->eth-abi>=5.0.1->web3) (2024.11.6)\n",
            "Downloading web3-7.13.0-py3-none-any.whl (1.4 MB)\n",
            "\u001b[2K   \u001b[90m━━━━━━━━━━━━━━━━━━━━━━━━━━━━━━━━━━━━━━━━\u001b[0m \u001b[32m1.4/1.4 MB\u001b[0m \u001b[31m24.5 MB/s\u001b[0m eta \u001b[36m0:00:00\u001b[0m\n",
            "\u001b[?25hDownloading eth_abi-5.2.0-py3-none-any.whl (28 kB)\n",
            "Downloading eth_account-0.13.7-py3-none-any.whl (587 kB)\n",
            "\u001b[2K   \u001b[90m━━━━━━━━━━━━━━━━━━━━━━━━━━━━━━━━━━━━━━━━\u001b[0m \u001b[32m587.5/587.5 kB\u001b[0m \u001b[31m36.5 MB/s\u001b[0m eta \u001b[36m0:00:00\u001b[0m\n",
            "\u001b[?25hDownloading eth_hash-0.7.1-py3-none-any.whl (8.0 kB)\n",
            "Downloading eth_typing-5.2.1-py3-none-any.whl (19 kB)\n",
            "Downloading eth_utils-5.3.0-py3-none-any.whl (102 kB)\n",
            "\u001b[2K   \u001b[90m━━━━━━━━━━━━━━━━━━━━━━━━━━━━━━━━━━━━━━━━\u001b[0m \u001b[32m102.5/102.5 kB\u001b[0m \u001b[31m6.9 MB/s\u001b[0m eta \u001b[36m0:00:00\u001b[0m\n",
            "\u001b[?25hDownloading hexbytes-1.3.1-py3-none-any.whl (5.1 kB)\n",
            "Downloading pyunormalize-16.0.0-py3-none-any.whl (49 kB)\n",
            "\u001b[2K   \u001b[90m━━━━━━━━━━━━━━━━━━━━━━━━━━━━━━━━━━━━━━━━\u001b[0m \u001b[32m49.2/49.2 kB\u001b[0m \u001b[31m3.1 MB/s\u001b[0m eta \u001b[36m0:00:00\u001b[0m\n",
            "\u001b[?25hDownloading types_requests-2.32.4.20250809-py3-none-any.whl (20 kB)\n",
            "Downloading bitarray-3.7.0-cp312-cp312-manylinux_2_17_x86_64.manylinux2014_x86_64.whl (332 kB)\n",
            "\u001b[2K   \u001b[90m━━━━━━━━━━━━━━━━━━━━━━━━━━━━━━━━━━━━━━━━\u001b[0m \u001b[32m332.9/332.9 kB\u001b[0m \u001b[31m22.1 MB/s\u001b[0m eta \u001b[36m0:00:00\u001b[0m\n",
            "\u001b[?25hDownloading ckzg-2.1.1-cp312-cp312-manylinux_2_17_x86_64.manylinux2014_x86_64.whl (170 kB)\n",
            "\u001b[2K   \u001b[90m━━━━━━━━━━━━━━━━━━━━━━━━━━━━━━━━━━━━━━━━\u001b[0m \u001b[32m170.8/170.8 kB\u001b[0m \u001b[31m11.4 MB/s\u001b[0m eta \u001b[36m0:00:00\u001b[0m\n",
            "\u001b[?25hDownloading cytoolz-1.0.1-cp312-cp312-manylinux_2_17_x86_64.manylinux2014_x86_64.whl (2.1 MB)\n",
            "\u001b[2K   \u001b[90m━━━━━━━━━━━━━━━━━━━━━━━━━━━━━━━━━━━━━━━━\u001b[0m \u001b[32m2.1/2.1 MB\u001b[0m \u001b[31m58.2 MB/s\u001b[0m eta \u001b[36m0:00:00\u001b[0m\n",
            "\u001b[?25hDownloading eth_keyfile-0.8.1-py3-none-any.whl (7.5 kB)\n",
            "Downloading eth_keys-0.7.0-py3-none-any.whl (20 kB)\n",
            "Downloading eth_rlp-2.2.0-py3-none-any.whl (4.4 kB)\n",
            "Downloading parsimonious-0.10.0-py3-none-any.whl (48 kB)\n",
            "\u001b[2K   \u001b[90m━━━━━━━━━━━━━━━━━━━━━━━━━━━━━━━━━━━━━━━━\u001b[0m \u001b[32m48.4/48.4 kB\u001b[0m \u001b[31m3.3 MB/s\u001b[0m eta \u001b[36m0:00:00\u001b[0m\n",
            "\u001b[?25hDownloading pycryptodome-3.23.0-cp37-abi3-manylinux_2_17_x86_64.manylinux2014_x86_64.whl (2.3 MB)\n",
            "\u001b[2K   \u001b[90m━━━━━━━━━━━━━━━━━━━━━━━━━━━━━━━━━━━━━━━━\u001b[0m \u001b[32m2.3/2.3 MB\u001b[0m \u001b[31m76.1 MB/s\u001b[0m eta \u001b[36m0:00:00\u001b[0m\n",
            "\u001b[?25hDownloading rlp-4.1.0-py3-none-any.whl (19 kB)\n",
            "Installing collected packages: ckzg, bitarray, types-requests, pyunormalize, pycryptodome, parsimonious, hexbytes, eth-typing, eth-hash, cytoolz, eth-utils, rlp, eth-keys, eth-abi, eth-rlp, eth-keyfile, eth-account, web3\n",
            "Successfully installed bitarray-3.7.0 ckzg-2.1.1 cytoolz-1.0.1 eth-abi-5.2.0 eth-account-0.13.7 eth-hash-0.7.1 eth-keyfile-0.8.1 eth-keys-0.7.0 eth-rlp-2.2.0 eth-typing-5.2.1 eth-utils-5.3.0 hexbytes-1.3.1 parsimonious-0.10.0 pycryptodome-3.23.0 pyunormalize-16.0.0 rlp-4.1.0 types-requests-2.32.4.20250809 web3-7.13.0\n"
          ]
        }
      ]
    },
    {
      "cell_type": "code",
      "source": [
        "import requests\n",
        "import pandas as pd\n",
        "import matplotlib.pyplot as plt\n",
        "from web3 import Web3\n"
      ],
      "metadata": {
        "id": "NxP6qfWZxbNU"
      },
      "execution_count": 2,
      "outputs": []
    },
    {
      "cell_type": "code",
      "source": [
        "import requests\n",
        "\n",
        "ETHERSCAN_API_KEY = \"DC64SUVKZC5ES2DWMUR66V3Z2D8DY19ZDY\"\n",
        "\n",
        "url = f\"https://api.etherscan.io/api?module=proxy&action=eth_blockNumber&apikey={ETHERSCAN_API_KEY}\"\n",
        "resp = requests.get(url).json()\n",
        "\n",
        "latest_block = int(resp[\"result\"], 16)\n",
        "print(\"Latest Block:\", latest_block)\n"
      ],
      "metadata": {
        "colab": {
          "base_uri": "https://localhost:8080/"
        },
        "id": "PiqsvWk2yhXb",
        "outputId": "056b93a0-3e45-40af-8b3b-416333b99fbc"
      },
      "execution_count": 5,
      "outputs": [
        {
          "output_type": "stream",
          "name": "stdout",
          "text": [
            "Latest Block: 23216232\n"
          ]
        }
      ]
    },
    {
      "cell_type": "code",
      "source": [
        "# Example: Get transactions from a block\n",
        "url = f\"https://api.etherscan.io/api?module=proxy&action=eth_getBlockByNumber&tag={hex(latest_block)}&boolean=true&apikey={ETHERSCAN_API_KEY}\"\n",
        "resp = requests.get(url).json()\n",
        "\n",
        "txs = resp[\"result\"][\"transactions\"]\n",
        "df_api = pd.DataFrame(txs)[[\"hash\", \"from\", \"to\", \"value\", \"gas\", \"gasPrice\"]]\n",
        "df_api[\"value_eth\"] = df_api[\"value\"].apply(lambda x: int(x,16)/1e18)  # convert Wei → ETH\n",
        "df_api[\"gasPrice_gwei\"] = df_api[\"gasPrice\"].apply(lambda x: int(x,16)/1e9)\n",
        "\n",
        "print(df_api.head())\n"
      ],
      "metadata": {
        "colab": {
          "base_uri": "https://localhost:8080/"
        },
        "id": "upM_oyPVzBy7",
        "outputId": "e29b96ce-d62d-428d-a0e0-943e119abf09"
      },
      "execution_count": 6,
      "outputs": [
        {
          "output_type": "stream",
          "name": "stdout",
          "text": [
            "                                                hash  \\\n",
            "0  0x7ba637d1d8ed6ce56d15215438981a992313f9f5aba4...   \n",
            "1  0x14833342385a3386c344995eb2db8e8bae5254d55926...   \n",
            "2  0xfc1681c9b003b7697fa4628e94c58507e87b0b51d32b...   \n",
            "3  0x16486b7affe5e2d5b9334144adb9631733efbb4120f5...   \n",
            "4  0x4f7fd25fe396a8377e250a757b0938cc838afe217202...   \n",
            "\n",
            "                                         from  \\\n",
            "0  0xbb1a1a2773a799d83078ae4d59d9f4b2b6ac50ff   \n",
            "1  0xd89c31cebc4c153e4942dbbe939d25f1944bf20c   \n",
            "2  0x1af85d572a8d1a6ef3a2cea3f0754f5085db7335   \n",
            "3  0xae2fc483527b8ef99eb5d9b44875f005ba1fae13   \n",
            "4  0x44f8c25f190da2fedda22a6a2b3b3cf91b548707   \n",
            "\n",
            "                                           to value       gas     gasPrice  \\\n",
            "0  0x88481e2fbc98d4a251655b0f1a4422555ea72d9e   0x0  0x1069bd   0x625914fc   \n",
            "1  0x80a64c6d7f12c47b7c66c5b4e20e72bc1fcd5d9e   0x0    0x80e8  0x80b28e168   \n",
            "2  0x51c72848c68a965f66fa7a88855f9f7784502a7f   0x0   0x26032  0x133fdebbc   \n",
            "3  0x1f2f10d1c40777ae1da742455c65828ff36df387  0x13  0x217cf5    0x8f0e5fc   \n",
            "4  0x111111125421ca6dc452d289314280a0f8842a65   0x0   0xe1f87    0x8f308dc   \n",
            "\n",
            "      value_eth  gasPrice_gwei  \n",
            "0  0.000000e+00       1.650005  \n",
            "1  0.000000e+00      34.546967  \n",
            "2  0.000000e+00       5.167246  \n",
            "3  1.900000e-17       0.150005  \n",
            "4  0.000000e+00       0.150145  \n"
          ]
        }
      ]
    },
    {
      "cell_type": "code",
      "source": [
        "plt.figure(figsize=(8,5))\n",
        "df_api[\"value_eth\"].hist(bins=30)\n",
        "plt.xlabel(\"Transaction Value (ETH)\")\n",
        "plt.ylabel(\"Frequency\")\n",
        "plt.title(f\"Distribution of Tx Values in Block {latest_block}\")\n",
        "plt.show()\n"
      ],
      "metadata": {
        "colab": {
          "base_uri": "https://localhost:8080/",
          "height": 487
        },
        "id": "jB3LzArJzF1R",
        "outputId": "ee82d424-47f6-4890-c080-bdada5a03577"
      },
      "execution_count": 7,
      "outputs": [
        {
          "output_type": "display_data",
          "data": {
            "text/plain": [
              "<Figure size 800x500 with 1 Axes>"
            ],
            "image/png": "[encoded data removed]"
          },
          "metadata": {}
        }
      ]
    },
    {
      "cell_type": "code",
      "source": [
        "import time\n",
        "\n",
        "def get_block_transactions(block_number):\n",
        "    url = f\"https://api.etherscan.io/api?module=proxy&action=eth_getBlockByNumber&tag={hex(block_number)}&boolean=true&apikey={ETHERSCAN_API_KEY}\"\n",
        "    resp = requests.get(url).json()\n",
        "    return resp[\"result\"][\"transactions\"]\n",
        "\n",
        "block_range = 20  # last 20 blocks\n",
        "tx_data = []\n",
        "\n",
        "for b in range(latest_block - block_range, latest_block + 1):\n",
        "    txs = get_block_transactions(b)\n",
        "    for tx in txs:\n",
        "        tx_data.append({\n",
        "            \"block\": b,\n",
        "            \"from\": tx[\"from\"],\n",
        "            \"to\": tx[\"to\"],\n",
        "            \"value_eth\": int(tx[\"value\"],16)/1e18\n",
        "        })\n",
        "    time.sleep(0.2)  # avoid hitting API rate limit\n",
        "\n",
        "df_multi = pd.DataFrame(tx_data)\n",
        "print(df_multi.head())\n"
      ],
      "metadata": {
        "colab": {
          "base_uri": "https://localhost:8080/"
        },
        "id": "mOzLMDn-zT4_",
        "outputId": "a97925ab-a643-489f-93c7-8f89dac5a8ea"
      },
      "execution_count": 8,
      "outputs": [
        {
          "output_type": "stream",
          "name": "stdout",
          "text": [
            "      block                                        from  \\\n",
            "0  23216212  0xae2fc483527b8ef99eb5d9b44875f005ba1fae13   \n",
            "1  23216212  0xcbfc65062256d0da0c3a05406972661332ab99dd   \n",
            "2  23216212  0xae2fc483527b8ef99eb5d9b44875f005ba1fae13   \n",
            "3  23216212  0xbee4b69f6821ee7196182788392ff188bac99011   \n",
            "4  23216212  0xc8b8481fbe82585d0bd9f3ed60a92d472274c2e5   \n",
            "\n",
            "                                           to     value_eth  \n",
            "0  0x1f2f10d1c40777ae1da742455c65828ff36df387  3.500000e-17  \n",
            "1  0x0000000000001ff3684f28c67538d4d072c22734  0.000000e+00  \n",
            "2  0x1f2f10d1c40777ae1da742455c65828ff36df387  3.500000e-17  \n",
            "3  0xbee3211ab312a8d065c4fef0247448e17a8da000  7.416986e-04  \n",
            "4  0x881d40237659c251811cec9c364ef91dc08d300c  0.000000e+00  \n"
          ]
        }
      ]
    },
    {
      "cell_type": "code",
      "source": [
        "active_addresses = df_multi[\"from\"].nunique() + df_multi[\"to\"].nunique()\n",
        "print(\"Active Addresses:\", active_addresses)\n"
      ],
      "metadata": {
        "colab": {
          "base_uri": "https://localhost:8080/"
        },
        "id": "avNhcvOT0Lo9",
        "outputId": "db60b567-29c7-4ac8-ad64-b23e6f19f429"
      },
      "execution_count": 9,
      "outputs": [
        {
          "output_type": "stream",
          "name": "stdout",
          "text": [
            "Active Addresses: 5056\n"
          ]
        }
      ]
    },
    {
      "cell_type": "code",
      "source": [
        "tx_volume = df_multi.groupby(\"block\")[\"value_eth\"].sum()\n",
        "tx_volume.plot(kind=\"bar\", figsize=(10,5))\n",
        "plt.title(\"Transaction Volume per Block\")\n",
        "plt.ylabel(\"ETH\")\n",
        "plt.show()\n"
      ],
      "metadata": {
        "colab": {
          "base_uri": "https://localhost:8080/",
          "height": 544
        },
        "id": "p4wz-3f40PmV",
        "outputId": "65d8bc62-1d17-4f4e-c09f-8856113f894f"
      },
      "execution_count": 10,
      "outputs": [
        {
          "output_type": "display_data",
          "data": {
            "text/plain": [
              "<Figure size 1000x500 with 1 Axes>"
            ],
            "image/png": "[encoded data removed]"
          },
          "metadata": {}
        }
      ]
    },
    {
      "cell_type": "code",
      "source": [
        "whales = df_multi[df_multi[\"value_eth\"] > 100]\n",
        "print(\"Whale Transactions (>100 ETH):\")\n",
        "print(whales.head())\n"
      ],
      "metadata": {
        "colab": {
          "base_uri": "https://localhost:8080/"
        },
        "id": "g2J6IUBy0Qua",
        "outputId": "c3875dbf-3c03-438a-d7c4-703b022db3ef"
      },
      "execution_count": 11,
      "outputs": [
        {
          "output_type": "stream",
          "name": "stdout",
          "text": [
            "Whale Transactions (>100 ETH):\n",
            "         block                                        from  \\\n",
            "362   23216214  0xec4a90159d9708f25e6bf95667fcbef055a13ec3   \n",
            "1254  23216218  0x61c664b64bbeb0be45a280452c8ff48611d541da   \n",
            "1991  23216221  0x56eddb7aa87536c09ccc2793473599fd21a8b17f   \n",
            "2444  23216223  0x957763aa67de8bbbd3fa72e3fef6f9436797d9c7   \n",
            "2761  23216225  0xa1abfa21f80ecf401bd41365adbb6fef6fefdf09   \n",
            "\n",
            "                                              to   value_eth  \n",
            "362   0x5d3366cc206ce7618035809b903adbb02fd1da94   185.40504  \n",
            "1254  0xbd216513d74c8cf14cf4747e6aaa6420ff64ee9e  1769.96194  \n",
            "1991  0x957763aa67de8bbbd3fa72e3fef6f9436797d9c7   399.99990  \n",
            "2444  0xa6f7d73606d7a2eef49b918c1c139c65e3f37133   400.00000  \n",
            "2761  0xeae7380dd4cef6fbd1144f49e4d1e6964258a4f4   300.99950  \n"
          ]
        }
      ]
    },
    {
      "cell_type": "markdown",
      "source": [
        "TG bot implementation"
      ],
      "metadata": {
        "id": "bltl3kEE1NcE"
      }
    },
    {
      "cell_type": "code",
      "source": [
        "!pip uninstall -y telegram telegram-bot python-telegram-bot\n"
      ],
      "metadata": {
        "colab": {
          "base_uri": "https://localhost:8080/"
        },
        "id": "3WJLxff71Mnh",
        "outputId": "afa2ea84-26d2-4d4a-f96d-98fc1bfa9df4"
      },
      "execution_count": 1,
      "outputs": [
        {
          "output_type": "stream",
          "name": "stdout",
          "text": [
            "\u001b[33mWARNING: Skipping telegram as it is not installed.\u001b[0m\u001b[33m\n",
            "\u001b[0m\u001b[33mWARNING: Skipping telegram-bot as it is not installed.\u001b[0m\u001b[33m\n",
            "\u001b[0mFound existing installation: python-telegram-bot 20.7\n",
            "Uninstalling python-telegram-bot-20.7:\n",
            "  Successfully uninstalled python-telegram-bot-20.7\n"
          ]
        }
      ]
    },
    {
      "cell_type": "code",
      "source": [
        "!pip install python-telegram-bot==20.3 requests pandas matplotlib nest_asyncio\n",
        "\n",
        "import nest_asyncio, asyncio\n",
        "nest_asyncio.apply()\n"
      ],
      "metadata": {
        "colab": {
          "base_uri": "https://localhost:8080/"
        },
        "id": "mLRgLnhZ9oj0",
        "outputId": "dc9d3bc7-c329-42a7-eb57-1f9d2caa8f4d"
      },
      "execution_count": 1,
      "outputs": [
        {
          "output_type": "stream",
          "name": "stdout",
          "text": [
            "Requirement already satisfied: python-telegram-bot==20.3 in /usr/local/lib/python3.12/dist-packages (20.3)\n",
            "Requirement already satisfied: requests in /usr/local/lib/python3.12/dist-packages (2.32.4)\n",
            "Requirement already satisfied: pandas in /usr/local/lib/python3.12/dist-packages (2.2.2)\n",
            "Requirement already satisfied: matplotlib in /usr/local/lib/python3.12/dist-packages (3.10.0)\n",
            "Requirement already satisfied: nest_asyncio in /usr/local/lib/python3.12/dist-packages (1.6.0)\n",
            "Requirement already satisfied: httpx~=0.24.0 in /usr/local/lib/python3.12/dist-packages (from python-telegram-bot==20.3) (0.24.1)\n",
            "Requirement already satisfied: charset_normalizer<4,>=2 in /usr/local/lib/python3.12/dist-packages (from requests) (3.4.3)\n",
            "Requirement already satisfied: idna<4,>=2.5 in /usr/local/lib/python3.12/dist-packages (from requests) (3.10)\n",
            "Requirement already satisfied: urllib3<3,>=1.21.1 in /usr/local/lib/python3.12/dist-packages (from requests) (2.5.0)\n",
            "Requirement already satisfied: certifi>=2017.4.17 in /usr/local/lib/python3.12/dist-packages (from requests) (2025.8.3)\n",
            "Requirement already satisfied: numpy>=1.26.0 in /usr/local/lib/python3.12/dist-packages (from pandas) (2.0.2)\n",
            "Requirement already satisfied: python-dateutil>=2.8.2 in /usr/local/lib/python3.12/dist-packages (from pandas) (2.9.0.post0)\n",
            "Requirement already satisfied: pytz>=2020.1 in /usr/local/lib/python3.12/dist-packages (from pandas) (2025.2)\n",
            "Requirement already satisfied: tzdata>=2022.7 in /usr/local/lib/python3.12/dist-packages (from pandas) (2025.2)\n",
            "Requirement already satisfied: contourpy>=1.0.1 in /usr/local/lib/python3.12/dist-packages (from matplotlib) (1.3.3)\n",
            "Requirement already satisfied: cycler>=0.10 in /usr/local/lib/python3.12/dist-packages (from matplotlib) (0.12.1)\n",
            "Requirement already satisfied: fonttools>=4.22.0 in /usr/local/lib/python3.12/dist-packages (from matplotlib) (4.59.1)\n",
            "Requirement already satisfied: kiwisolver>=1.3.1 in /usr/local/lib/python3.12/dist-packages (from matplotlib) (1.4.9)\n",
            "Requirement already satisfied: packaging>=20.0 in /usr/local/lib/python3.12/dist-packages (from matplotlib) (25.0)\n",
            "Requirement already satisfied: pillow>=8 in /usr/local/lib/python3.12/dist-packages (from matplotlib) (11.3.0)\n",
            "Requirement already satisfied: pyparsing>=2.3.1 in /usr/local/lib/python3.12/dist-packages (from matplotlib) (3.2.3)\n",
            "Requirement already satisfied: httpcore<0.18.0,>=0.15.0 in /usr/local/lib/python3.12/dist-packages (from httpx~=0.24.0->python-telegram-bot==20.3) (0.17.3)\n",
            "Requirement already satisfied: sniffio in /usr/local/lib/python3.12/dist-packages (from httpx~=0.24.0->python-telegram-bot==20.3) (1.3.1)\n",
            "Requirement already satisfied: six>=1.5 in /usr/local/lib/python3.12/dist-packages (from python-dateutil>=2.8.2->pandas) (1.17.0)\n",
            "Requirement already satisfied: h11<0.15,>=0.13 in /usr/local/lib/python3.12/dist-packages (from httpcore<0.18.0,>=0.15.0->httpx~=0.24.0->python-telegram-bot==20.3) (0.14.0)\n",
            "Requirement already satisfied: anyio<5.0,>=3.0 in /usr/local/lib/python3.12/dist-packages (from httpcore<0.18.0,>=0.15.0->httpx~=0.24.0->python-telegram-bot==20.3) (4.10.0)\n",
            "Requirement already satisfied: typing_extensions>=4.5 in /usr/local/lib/python3.12/dist-packages (from anyio<5.0,>=3.0->httpcore<0.18.0,>=0.15.0->httpx~=0.24.0->python-telegram-bot==20.3) (4.14.1)\n"
          ]
        }
      ]
    },
    {
      "cell_type": "markdown",
      "source": [
        "Token Addition"
      ],
      "metadata": {
        "id": "sEreFeep_Efo"
      }
    },
    {
      "cell_type": "code",
      "source": [
        "import requests\n",
        "import pandas as pd\n",
        "import matplotlib.pyplot as plt\n",
        "from telegram import Update\n",
        "from telegram.ext import Application, CommandHandler, ContextTypes\n",
        "\n",
        "BOT_TOKEN = \"8355666237:AAEib2Rss7ODOFyFmzB-mwtHsSlklxgSKPY\"       # 👈 put your bot token\n",
        "ETHERSCAN_API_KEY = \"DC64SUVKZC5ES2DWMUR66V3Z2D8DY19ZDY\"  # 👈 put etherscan API key\n"
      ],
      "metadata": {
        "id": "zghXzCMI9qFN"
      },
      "execution_count": 2,
      "outputs": []
    },
    {
      "cell_type": "code",
      "source": [
        "async def start(update: Update, context: ContextTypes.DEFAULT_TYPE):\n",
        "    await update.message.reply_text(\"✅ On-Chain Bot is live! Use /plot to see latest block tx histogram.\")\n",
        "\n",
        "async def plot(update: Update, context: ContextTypes.DEFAULT_TYPE):\n",
        "    try:\n",
        "        # 1. Latest block\n",
        "        url = f\"https://api.etherscan.io/api?module=proxy&action=eth_blockNumber&apikey={ETHERSCAN_API_KEY}\"\n",
        "        resp = requests.get(url).json()\n",
        "        latest_block = int(resp[\"result\"], 16)\n",
        "\n",
        "        # 2. Block txs\n",
        "        url = f\"https://api.etherscan.io/api?module=proxy&action=eth_getBlockByNumber&tag={hex(latest_block)}&boolean=true&apikey={ETHERSCAN_API_KEY}\"\n",
        "        resp = requests.get(url).json()\n",
        "        txs = resp[\"result\"][\"transactions\"]\n",
        "\n",
        "        if not txs:\n",
        "            await update.message.reply_text(\"⚠️ No transactions found in latest block.\")\n",
        "            return\n",
        "\n",
        "        # 3. DataFrame\n",
        "        df = pd.DataFrame(txs)[[\"hash\",\"from\",\"to\",\"value\",\"gas\",\"gasPrice\"]]\n",
        "        df[\"value_eth\"] = df[\"value\"].apply(lambda x: int(x,16)/1e18)\n",
        "\n",
        "        # 4. Plot histogram\n",
        "        plt.figure(figsize=(8,5))\n",
        "        df[\"value_eth\"].hist(bins=30)\n",
        "        plt.xlabel(\"Tx Value (ETH)\")\n",
        "        plt.ylabel(\"Frequency\")\n",
        "        plt.title(f\"Tx Value Distribution in Block {latest_block}\")\n",
        "        plt.savefig(\"plot.png\")\n",
        "        plt.close()\n",
        "\n",
        "        # 5. Send to Telegram\n",
        "        await update.message.reply_photo(photo=open(\"plot.png\",\"rb\"))\n",
        "\n",
        "    except Exception as e:\n",
        "        await update.message.reply_text(f\"❌ Error: {e}\")\n"
      ],
      "metadata": {
        "id": "4JGlb9cw9zrY"
      },
      "execution_count": 3,
      "outputs": []
    },
    {
      "cell_type": "markdown",
      "source": [
        "Handlers"
      ],
      "metadata": {
        "id": "yVz9J1jz-nte"
      }
    },
    {
      "cell_type": "code",
      "source": [
        "app = Application.builder().token(BOT_TOKEN).build()\n",
        "app.add_handler(CommandHandler(\"start\", start))\n",
        "app.add_handler(CommandHandler(\"plot\", plot))\n",
        "app.add_handler(CommandHandler(\"active\", active))\n",
        "\n",
        "\n",
        "# Use asyncio run inside Colab\n",
        "async def run():\n",
        "    print(\"🤖 Bot is running... open Telegram and type /start or /plot\")\n",
        "    await app.run_polling()\n",
        "\n",
        "await run()\n"
      ],
      "metadata": {
        "colab": {
          "base_uri": "https://localhost:8080/"
        },
        "id": "nNnXQgrx91aN",
        "outputId": "3e39ee52-b65e-4ea5-a6bc-81d9a3076920"
      },
      "execution_count": null,
      "outputs": [
        {
          "output_type": "stream",
          "name": "stdout",
          "text": [
            "🤖 Bot is running... open Telegram and type /start or /plot\n"
          ]
        }
      ]
    },
    {
      "cell_type": "code",
      "source": [
        "async def active(update: Update, context: ContextTypes.DEFAULT_TYPE):\n",
        "    try:\n",
        "        # 1. Get latest block\n",
        "        url = f\"https://api.etherscan.io/api?module=proxy&action=eth_blockNumber&apikey={ETHERSCAN_API_KEY}\"\n",
        "        resp = requests.get(url).json()\n",
        "        latest_block = int(resp[\"result\"], 16)\n",
        "\n",
        "        # 2. Loop last 50 blocks\n",
        "        addresses = set()\n",
        "        for i in range(latest_block-50, latest_block):\n",
        "            url = f\"https://api.etherscan.io/api?module=proxy&action=eth_getBlockByNumber&tag={hex(i)}&boolean=true&apikey={ETHERSCAN_API_KEY}\"\n",
        "            resp = requests.get(url).json()\n",
        "            block = resp.get(\"result\", {})\n",
        "            txs = block.get(\"transactions\", [])\n",
        "            for tx in txs:\n",
        "                addresses.add(tx[\"from\"])\n",
        "                if tx[\"to\"]:\n",
        "                    addresses.add(tx[\"to\"])\n",
        "\n",
        "        # 3. Reply with result\n",
        "        await update.message.reply_text(\n",
        "            f\"📊 Active Addresses in last 50 blocks: {len(addresses)}\"\n",
        "        )\n",
        "\n",
        "    except Exception as e:\n",
        "        await update.message.reply_text(f\"❌ Error in /active: {e}\")\n"
      ],
      "metadata": {
        "id": "YThbI8SL-UHU"
      },
      "execution_count": 5,
      "outputs": []
    },
    {
      "cell_type": "markdown",
      "source": [
        "8355666237:AAEib2Rss7ODOFyFmzB-mwtHsSlklxgSKPY"
      ],
      "metadata": {
        "id": "x_Sf5k5L3zyZ"
      }
    },
    {
      "cell_type": "markdown",
      "source": [
        "DC64SUVKZC5ES2DWMUR66V3Z2D8DY19ZDY"
      ],
      "metadata": {
        "id": "gfGl7-8g6kvy"
      }
    }
  ]
}