{
  "nbformat": 4,
  "nbformat_minor": 0,
  "metadata": {
    "colab": {
      "provenance": [],
      "gpuType": "T4",
      "authorship_tag": "ABX9TyMBFwse+4hllqCB92reGaV8",
      "include_colab_link": true
    },
    "kernelspec": {
      "name": "python3",
      "display_name": "Python 3"
    },
    "language_info": {
      "name": "python"
    },
    "accelerator": "GPU"
  },
  "cells": [
    {
      "cell_type": "markdown",
      "metadata": {
        "id": "view-in-github",
        "colab_type": "text"
      },
      "source": [
        "<a href=\"https://colab.research.google.com/github/jdeept/Financial-News/blob/main/Bitnode_API.ipynb\" target=\"_parent\"><img src=\"https://colab.research.google.com/assets/colab-badge.svg\" alt=\"Open In Colab\"/></a>"
      ]
    },
    {
      "cell_type": "code",
      "execution_count": null,
      "metadata": {
        "colab": {
          "base_uri": "https://localhost:8080/"
        },
        "id": "ecazC2k6M1lc",
        "outputId": "bc4b69ef-278a-431a-fed7-d18af6181ac6"
      },
      "outputs": [
        {
          "output_type": "stream",
          "name": "stdout",
          "text": [
            "{'ok': False, 'error_code': 400, 'description': 'Bad Request: chat not found'}\n"
          ]
        }
      ],
      "source": [
        "import requests\n",
        "\n",
        "# Replace this with your actual bot token and chat ID\n",
        "bot_token = '8141594729:AAFdqMTsxdcNnicVbo_74MT4U0miA9aUh2A'\n",
        "chat_id = '<YOUR_CHAT_ID>'  # Replace with your Telegram user ID\n",
        "\n",
        "message = \"📢 GOLD INTRADAY ALERT:\\n\\nBuy above 3348\\nTargets: 3356 / 3365 / 3372\\nSL: 3340\\n\\nShort below 3335\\nTargets: 3326 / 3318 / 3305\\nSL: 3344\"\n",
        "\n",
        "url = f\"https://api.telegram.org/bot{bot_token}/sendMessage\"\n",
        "payload = {\n",
        "    \"chat_id\": chat_id,\n",
        "    \"text\": message,\n",
        "    \"parse_mode\": \"HTML\"\n",
        "}\n",
        "\n",
        "response = requests.post(url, data=payload)\n",
        "print(response.json())\n"
      ]
    },
    {
      "cell_type": "code",
      "source": [
        "import requests\n",
        "\n",
        "# Your Telegram bot token\n",
        "bot_token = '8141594729:AAFdqMTsxdcNnicVbo_74MT4U0miA9aUh2A'\n",
        "\n",
        "# Your Telegram chat ID\n",
        "chat_id = '2040822986'\n",
        "\n",
        "# Your message\n",
        "message = \"📢 GOLD INTRADAY ALERT:\\n\\nBuy Zone: 3344–3346\\nTargets: 3356 / 3365\\nSL: 3336\\n\\nPowered by ChatGPT Bot 🔔\"\n",
        "\n",
        "# Send message\n",
        "url = f\"https://api.telegram.org/bot{bot_token}/sendMessage\"\n",
        "payload = {\n",
        "    \"chat_id\": chat_id,\n",
        "    \"text\": message,\n",
        "    \"parse_mode\": \"Markdown\"\n",
        "}\n",
        "\n",
        "response = requests.post(url, data=payload)\n",
        "print(response.json())\n"
      ],
      "metadata": {
        "colab": {
          "base_uri": "https://localhost:8080/"
        },
        "id": "QgHHwbjoOBL7",
        "outputId": "621eba24-2329-4e0b-ce34-b38eefe8253a"
      },
      "execution_count": null,
      "outputs": [
        {
          "output_type": "stream",
          "name": "stdout",
          "text": [
            "{'ok': True, 'result': {'message_id': 3, 'from': {'id': 8141594729, 'is_bot': True, 'first_name': 'Scalper', 'username': 'Oqpaoooooq_bot'}, 'chat': {'id': 2040822986, 'first_name': 'Jnyandeep', 'username': 'Jnyandeep', 'type': 'private'}, 'date': 1751461142, 'text': '📢 GOLD INTRADAY ALERT:\\n\\nBuy Zone: 3344–3346\\nTargets: 3356 / 3365\\nSL: 3336\\n\\nPowered by ChatGPT Bot 🔔'}}\n"
          ]
        }
      ]
    },
    {
      "cell_type": "code",
      "source": [
        "import requests\n",
        "\n",
        "bot_token = '8141594729:AAFdqMTsxdcNnicVbo_74MT4U0miA9aUh2A'\n",
        "chat_id = '2040822986'\n",
        "\n",
        "message = \"\"\"\n",
        "📈 XAUUSD Long Setup (July 3rd)\n",
        "💰 Entry: Buy on dips at 3,341–3,338\n",
        "🎯 TP1: 3,360\n",
        "🎯 TP2: 3,368\n",
        "🛑 SL: 3,327 (Hard SL)\n",
        "🧠 Bias: Bullish continuation unless 3,336 breaks on strong volume\n",
        "⏱ Session: NY Open → London Close preferred\n",
        "\n",
        "_Signal by JD_\n",
        "\"\"\"\n",
        "\n",
        "url = f\"https://api.telegram.org/bot{bot_token}/sendMessage\"\n",
        "payload = {\n",
        "    \"chat_id\": chat_id,\n",
        "    \"text\": message,\n",
        "    \"parse_mode\": \"Markdown\"\n",
        "}\n",
        "\n",
        "response = requests.post(url, data=payload)\n",
        "print(\"✅ Sent!\" if response.status_code == 200 else \"❌ Failed:\", response.text)\n"
      ],
      "metadata": {
        "colab": {
          "base_uri": "https://localhost:8080/"
        },
        "id": "FmP0XPs6PBKZ",
        "outputId": "db9c3a14-9ef8-4191-9596-3e016f71b5d1"
      },
      "execution_count": null,
      "outputs": [
        {
          "output_type": "stream",
          "name": "stdout",
          "text": [
            "✅ Sent! {\"ok\":true,\"result\":{\"message_id\":12,\"from\":{\"id\":8141594729,\"is_bot\":true,\"first_name\":\"Scalper\",\"username\":\"Oqpaoooooq_bot\"},\"chat\":{\"id\":2040822986,\"first_name\":\"Jnyandeep\",\"username\":\"Jnyandeep\",\"type\":\"private\"},\"date\":1751480565,\"text\":\"\\ud83d\\udcc8 XAUUSD Long Setup (July 3rd)\\n\\ud83d\\udcb0 Entry: Buy on dips at 3,341\\u20133,338\\n\\ud83c\\udfaf TP1: 3,360\\n\\ud83c\\udfaf TP2: 3,368\\n\\ud83d\\uded1 SL: 3,327 (Hard SL)\\n\\ud83e\\udde0 Bias: Bullish continuation unless 3,336 breaks on strong volume\\n\\u23f1 Session: NY Open \\u2192 London Close preferred \\n\\nSignal by JD\",\"entities\":[{\"offset\":233,\"length\":12,\"type\":\"italic\"}]}}\n"
          ]
        }
      ]
    }
  ]
}