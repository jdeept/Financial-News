{
  "nbformat": 4,
  "nbformat_minor": 0,
  "metadata": {
    "colab": {
      "provenance": [],
      "gpuType": "T4",
      "authorship_tag": "ABX9TyNLHEW5OdMtYNBK5FC2JdXz",
      "include_colab_link": true
    },
    "kernelspec": {
      "name": "python3",
      "display_name": "Python 3"
    },
    "language_info": {
      "name": "python"
    },
    "accelerator": "GPU",
    "widgets": {
      "application/vnd.jupyter.widget-state+json": {
        "8bf0f8282b5444eab1733aa83105543b": {
          "model_module": "@jupyter-widgets/controls",
          "model_name": "VBoxModel",
          "model_module_version": "1.5.0",
          "state": {
            "_dom_classes": [
              "widget-interact"
            ],
            "_model_module": "@jupyter-widgets/controls",
            "_model_module_version": "1.5.0",
            "_model_name": "VBoxModel",
            "_view_count": null,
            "_view_module": "@jupyter-widgets/controls",
            "_view_module_version": "1.5.0",
            "_view_name": "VBoxView",
            "box_style": "",
            "children": [
              "IPY_MODEL_b87c545471c44377b818c99b4d4eedf1",
              "IPY_MODEL_3cd04cd216bf49979ef1b096b5235fd4"
            ],
            "layout": "IPY_MODEL_9cbf93f49a2b48ed9019fcd02a5c9ac5"
          }
        },
        "b87c545471c44377b818c99b4d4eedf1": {
          "model_module": "@jupyter-widgets/controls",
          "model_name": "DropdownModel",
          "model_module_version": "1.5.0",
          "state": {
            "_dom_classes": [],
            "_model_module": "@jupyter-widgets/controls",
            "_model_module_version": "1.5.0",
            "_model_name": "DropdownModel",
            "_options_labels": [
              "Buy Signal",
              "Sell Signal",
              "NY Session Plan",
              "Quick Update"
            ],
            "_view_count": null,
            "_view_module": "@jupyter-widgets/controls",
            "_view_module_version": "1.5.0",
            "_view_name": "DropdownView",
            "description": "📤 Send:",
            "description_tooltip": null,
            "disabled": false,
            "index": 1,
            "layout": "IPY_MODEL_310a03404085480a8ef363df54785c0e",
            "style": "IPY_MODEL_611d07edd64c4b71a25061656e5465ab"
          }
        },
        "3cd04cd216bf49979ef1b096b5235fd4": {
          "model_module": "@jupyter-widgets/output",
          "model_name": "OutputModel",
          "model_module_version": "1.0.0",
          "state": {
            "_dom_classes": [],
            "_model_module": "@jupyter-widgets/output",
            "_model_module_version": "1.0.0",
            "_model_name": "OutputModel",
            "_view_count": null,
            "_view_module": "@jupyter-widgets/output",
            "_view_module_version": "1.0.0",
            "_view_name": "OutputView",
            "layout": "IPY_MODEL_757a09297cf34f3f88b093d4a7332676",
            "msg_id": "",
            "outputs": [
              {
                "output_type": "stream",
                "name": "stdout",
                "text": [
                  "✅ Message sent!\n"
                ]
              }
            ]
          }
        },
        "9cbf93f49a2b48ed9019fcd02a5c9ac5": {
          "model_module": "@jupyter-widgets/base",
          "model_name": "LayoutModel",
          "model_module_version": "1.2.0",
          "state": {
            "_model_module": "@jupyter-widgets/base",
            "_model_module_version": "1.2.0",
            "_model_name": "LayoutModel",
            "_view_count": null,
            "_view_module": "@jupyter-widgets/base",
            "_view_module_version": "1.2.0",
            "_view_name": "LayoutView",
            "align_content": null,
            "align_items": null,
            "align_self": null,
            "border": null,
            "bottom": null,
            "display": null,
            "flex": null,
            "flex_flow": null,
            "grid_area": null,
            "grid_auto_columns": null,
            "grid_auto_flow": null,
            "grid_auto_rows": null,
            "grid_column": null,
            "grid_gap": null,
            "grid_row": null,
            "grid_template_areas": null,
            "grid_template_columns": null,
            "grid_template_rows": null,
            "height": null,
            "justify_content": null,
            "justify_items": null,
            "left": null,
            "margin": null,
            "max_height": null,
            "max_width": null,
            "min_height": null,
            "min_width": null,
            "object_fit": null,
            "object_position": null,
            "order": null,
            "overflow": null,
            "overflow_x": null,
            "overflow_y": null,
            "padding": null,
            "right": null,
            "top": null,
            "visibility": null,
            "width": null
          }
        },
        "310a03404085480a8ef363df54785c0e": {
          "model_module": "@jupyter-widgets/base",
          "model_name": "LayoutModel",
          "model_module_version": "1.2.0",
          "state": {
            "_model_module": "@jupyter-widgets/base",
            "_model_module_version": "1.2.0",
            "_model_name": "LayoutModel",
            "_view_count": null,
            "_view_module": "@jupyter-widgets/base",
            "_view_module_version": "1.2.0",
            "_view_name": "LayoutView",
            "align_content": null,
            "align_items": null,
            "align_self": null,
            "border": null,
            "bottom": null,
            "display": null,
            "flex": null,
            "flex_flow": null,
            "grid_area": null,
            "grid_auto_columns": null,
            "grid_auto_flow": null,
            "grid_auto_rows": null,
            "grid_column": null,
            "grid_gap": null,
            "grid_row": null,
            "grid_template_areas": null,
            "grid_template_columns": null,
            "grid_template_rows": null,
            "height": null,
            "justify_content": null,
            "justify_items": null,
            "left": null,
            "margin": null,
            "max_height": null,
            "max_width": null,
            "min_height": null,
            "min_width": null,
            "object_fit": null,
            "object_position": null,
            "order": null,
            "overflow": null,
            "overflow_x": null,
            "overflow_y": null,
            "padding": null,
            "right": null,
            "top": null,
            "visibility": null,
            "width": null
          }
        },
        "611d07edd64c4b71a25061656e5465ab": {
          "model_module": "@jupyter-widgets/controls",
          "model_name": "DescriptionStyleModel",
          "model_module_version": "1.5.0",
          "state": {
            "_model_module": "@jupyter-widgets/controls",
            "_model_module_version": "1.5.0",
            "_model_name": "DescriptionStyleModel",
            "_view_count": null,
            "_view_module": "@jupyter-widgets/base",
            "_view_module_version": "1.2.0",
            "_view_name": "StyleView",
            "description_width": ""
          }
        },
        "757a09297cf34f3f88b093d4a7332676": {
          "model_module": "@jupyter-widgets/base",
          "model_name": "LayoutModel",
          "model_module_version": "1.2.0",
          "state": {
            "_model_module": "@jupyter-widgets/base",
            "_model_module_version": "1.2.0",
            "_model_name": "LayoutModel",
            "_view_count": null,
            "_view_module": "@jupyter-widgets/base",
            "_view_module_version": "1.2.0",
            "_view_name": "LayoutView",
            "align_content": null,
            "align_items": null,
            "align_self": null,
            "border": null,
            "bottom": null,
            "display": null,
            "flex": null,
            "flex_flow": null,
            "grid_area": null,
            "grid_auto_columns": null,
            "grid_auto_flow": null,
            "grid_auto_rows": null,
            "grid_column": null,
            "grid_gap": null,
            "grid_row": null,
            "grid_template_areas": null,
            "grid_template_columns": null,
            "grid_template_rows": null,
            "height": null,
            "justify_content": null,
            "justify_items": null,
            "left": null,
            "margin": null,
            "max_height": null,
            "max_width": null,
            "min_height": null,
            "min_width": null,
            "object_fit": null,
            "object_position": null,
            "order": null,
            "overflow": null,
            "overflow_x": null,
            "overflow_y": null,
            "padding": null,
            "right": null,
            "top": null,
            "visibility": null,
            "width": null
          }
        }
      }
    }
  },
  "cells": [
    {
      "cell_type": "markdown",
      "metadata": {
        "id": "view-in-github",
        "colab_type": "text"
      },
      "source": [
        "<a href=\"https://colab.research.google.com/github/jdeept/Financial-News/blob/main/tgbot.ipynb\" target=\"_parent\"><img src=\"https://colab.research.google.com/assets/colab-badge.svg\" alt=\"Open In Colab\"/></a>"
      ]
    },
    {
      "cell_type": "code",
      "execution_count": null,
      "metadata": {
        "colab": {
          "base_uri": "https://localhost:8080/"
        },
        "id": "ecazC2k6M1lc",
        "outputId": "bc4b69ef-278a-431a-fed7-d18af6181ac6"
      },
      "outputs": [
        {
          "output_type": "stream",
          "name": "stdout",
          "text": [
            "{'ok': False, 'error_code': 400, 'description': 'Bad Request: chat not found'}\n"
          ]
        }
      ],
      "source": [
        "import requests\n",
        "\n",
        "# Replace this with your actual bot token and chat ID\n",
        "bot_token = '8141594729:AAFdqMTsxdcNnicVbo_74MT4U0miA9aUh2A'\n",
        "chat_id = '<YOUR_CHAT_ID>'  # Replace with your Telegram user ID\n",
        "\n",
        "message = \"📢 GOLD INTRADAY ALERT:\\n\\nBuy above 3348\\nTargets: 3356 / 3365 / 3372\\nSL: 3340\\n\\nShort below 3335\\nTargets: 3326 / 3318 / 3305\\nSL: 3344\"\n",
        "\n",
        "url = f\"https://api.telegram.org/bot{bot_token}/sendMessage\"\n",
        "payload = {\n",
        "    \"chat_id\": chat_id,\n",
        "    \"text\": message,\n",
        "    \"parse_mode\": \"HTML\"\n",
        "}\n",
        "\n",
        "response = requests.post(url, data=payload)\n",
        "print(response.json())\n"
      ]
    },
    {
      "cell_type": "code",
      "source": [
        "import requests\n",
        "\n",
        "# Your Telegram bot token\n",
        "bot_token = '8141594729:AAFdqMTsxdcNnicVbo_74MT4U0miA9aUh2A'\n",
        "\n",
        "# Your Telegram chat ID\n",
        "chat_id = '2040822986'\n",
        "\n",
        "# Your message\n",
        "message = \"📢 GOLD INTRADAY ALERT:\\n\\nBuy Zone: 3344–3346\\nTargets: 3356 / 3365\\nSL: 3336\\n\\nPowered by ChatGPT Bot 🔔\"\n",
        "\n",
        "# Send message\n",
        "url = f\"https://api.telegram.org/bot{bot_token}/sendMessage\"\n",
        "payload = {\n",
        "    \"chat_id\": chat_id,\n",
        "    \"text\": message,\n",
        "    \"parse_mode\": \"Markdown\"\n",
        "}\n",
        "\n",
        "response = requests.post(url, data=payload)\n",
        "print(response.json())\n"
      ],
      "metadata": {
        "colab": {
          "base_uri": "https://localhost:8080/"
        },
        "id": "QgHHwbjoOBL7",
        "outputId": "621eba24-2329-4e0b-ce34-b38eefe8253a"
      },
      "execution_count": null,
      "outputs": [
        {
          "output_type": "stream",
          "name": "stdout",
          "text": [
            "{'ok': True, 'result': {'message_id': 3, 'from': {'id': 8141594729, 'is_bot': True, 'first_name': 'Scalper', 'username': 'Oqpaoooooq_bot'}, 'chat': {'id': 2040822986, 'first_name': 'Jnyandeep', 'username': 'Jnyandeep', 'type': 'private'}, 'date': 1751461142, 'text': '📢 GOLD INTRADAY ALERT:\\n\\nBuy Zone: 3344–3346\\nTargets: 3356 / 3365\\nSL: 3336\\n\\nPowered by ChatGPT Bot 🔔'}}\n"
          ]
        }
      ]
    },
    {
      "cell_type": "markdown",
      "source": [
        "Signal maker"
      ],
      "metadata": {
        "id": "o6zCxMVQQR6W"
      }
    },
    {
      "cell_type": "code",
      "source": [
        "import requests\n",
        "\n",
        "bot_token = '8141594729:AAFdqMTsxdcNnicVbo_74MT4U0miA9aUh2A'\n",
        "chat_id = '2040822986'\n",
        "\n",
        "message = \"\"\"\n",
        "📈 XAUUSD INTRADAY ALERT\n",
        "🟢 LONG @ 3338–3341\n",
        "🎯 Targets: 3347 / 3353 / 3358\n",
        "🛑 SL: 3334\n",
        "Bias: Bullish\n",
        "Vol Profile & Liquidity match\n",
        "\n",
        "\n",
        "\n",
        "_Signal by JD_\n",
        "\"\"\"\n",
        "\n",
        "url = f\"https://api.telegram.org/bot{bot_token}/sendMessage\"\n",
        "payload = {\n",
        "    \"chat_id\": chat_id,\n",
        "    \"text\": message,\n",
        "    \"parse_mode\": \"Markdown\"\n",
        "}\n",
        "\n",
        "response = requests.post(url, data=payload)\n",
        "print(\"✅ Sent!\" if response.status_code == 200 else \"❌ Failed:\", response.text)\n"
      ],
      "metadata": {
        "colab": {
          "base_uri": "https://localhost:8080/"
        },
        "id": "FmP0XPs6PBKZ",
        "outputId": "e24bab9f-9864-4a47-eb4e-430a1b4e142a"
      },
      "execution_count": null,
      "outputs": [
        {
          "output_type": "stream",
          "name": "stdout",
          "text": [
            "✅ Sent! {\"ok\":true,\"result\":{\"message_id\":9,\"from\":{\"id\":8141594729,\"is_bot\":true,\"first_name\":\"Scalper\",\"username\":\"Oqpaoooooq_bot\"},\"chat\":{\"id\":2040822986,\"first_name\":\"Jnyandeep\",\"username\":\"Jnyandeep\",\"type\":\"private\"},\"date\":1751462032,\"text\":\"\\ud83d\\udcc8 XAUUSD INTRADAY ALERT  \\n\\ud83d\\udfe2 LONG @ 3338\\u20133341  \\n\\ud83c\\udfaf Targets: 3347 / 3353 / 3358  \\n\\ud83d\\uded1 SL: 3334  \\nBias: Bullish  \\nVol Profile & Liquidity match  \\n\\n\\n\\nSignal by JD\",\"entities\":[{\"offset\":147,\"length\":12,\"type\":\"italic\"}]}}\n"
          ]
        }
      ]
    },
    {
      "cell_type": "code",
      "source": [
        "# 📦 STEP 1: Install dependencies\n",
        "!pip install ipywidgets -q\n",
        "\n",
        "# 📚 STEP 2: Import libraries\n",
        "import requests\n",
        "from ipywidgets import interact, Dropdown\n",
        "\n",
        "# 🛡️ STEP 3: Bot credentials (Update these!)\n",
        "bot_token = '8141594729:AAFdqMTsxdcNnicVbo_74MT4U0miA9aUh2A'  # Replace with your token\n",
        "chat_id = '2040822986'  # Replace with your chat ID\n",
        "\n",
        "# 🚀 STEP 4: Message sending function\n",
        "def send_message(msg):\n",
        "    url = f\"https://api.telegram.org/bot{bot_token}/sendMessage\"\n",
        "    payload = {\n",
        "        \"chat_id\": chat_id,\n",
        "        \"text\": msg,\n",
        "        \"parse_mode\": \"Markdown\"\n",
        "    }\n",
        "    response = requests.post(url, data=payload)\n",
        "    if response.status_code == 200:\n",
        "        print(\"✅ Message sent!\")\n",
        "    else:\n",
        "        print(\"❌ Failed:\", response.text)\n",
        "\n",
        "# 🧠 STEP 5: Signal templates\n",
        "def send_signal(signal_type):\n",
        "    if signal_type == \"Buy Signal\":\n",
        "        msg = \"\"\"\n",
        "📈 *GOLD BUY SIGNAL*\n",
        "\n",
        "🔹 Entry Zone: 3344–3346\n",
        "🎯 Targets: 3356 / 3365\n",
        "🛑 SL: 3336\n",
        "📊 Bias: Strong Buy 🟢\n",
        "🕒 NY Session\n",
        "\n",
        "_JD_\n",
        "\"\"\"\n",
        "    elif signal_type == \"Sell Signal\":\n",
        "        msg = \"\"\"\n",
        "📉 *GOLD SELL SIGNAL*\n",
        "\n",
        "🔹 Entry Zone: 3365–3368\n",
        "🎯 Targets: 3350 / 3342\n",
        "🛑 SL: 3375\n",
        "📊 Bias: Short Fade 🔻\n",
        "🕒 NY Session\n",
        "\n",
        "_JD_\n",
        "\"\"\"\n",
        "    elif signal_type == \"NY Session Plan\":\n",
        "        msg = \"\"\"\n",
        "📅 *GOLD NY SESSION PLAN – 2nd July*\n",
        "\n",
        "✅ Buy Zone: 3342–3346 → Target: 3356 / 3365\n",
        "❌ Fade Zone: 3365–3370 → Target: 3350 / 3342\n",
        "🔐 SL: Keep tight (6–8 pts)\n",
        "\n",
        "⏱ Time Focus: 6 PM – 9 PM IST\n",
        "📊 Confidence: Buy on Dip > Fade\n",
        "\n",
        "_JD_\n",
        "\"\"\"\n",
        "    elif signal_type == \"Quick Update\":\n",
        "        msg = \"🔔 Quick update: Gold holding above 3344 – bias still long. Watch for 3356 breakout.\"\n",
        "\n",
        "    else:\n",
        "        msg = \"❓ Unknown signal type.\"\n",
        "\n",
        "    send_message(msg)\n",
        "\n",
        "# 🎛️ STEP 6: Interactive dropdown\n",
        "interact(send_signal, signal_type=Dropdown(\n",
        "    options=[\"Buy Signal\", \"Sell Signal\", \"NY Session Plan\", \"Quick Update\"],\n",
        "    value=\"Buy Signal\",\n",
        "    description=\"📤 Send:\",\n",
        "    disabled=False,\n",
        "))\n"
      ],
      "metadata": {
        "colab": {
          "base_uri": "https://localhost:8080/",
          "height": 1000,
          "referenced_widgets": [
            "8bf0f8282b5444eab1733aa83105543b",
            "b87c545471c44377b818c99b4d4eedf1",
            "3cd04cd216bf49979ef1b096b5235fd4",
            "9cbf93f49a2b48ed9019fcd02a5c9ac5",
            "310a03404085480a8ef363df54785c0e",
            "611d07edd64c4b71a25061656e5465ab",
            "757a09297cf34f3f88b093d4a7332676"
          ]
        },
        "id": "dCilTumJQQ4f",
        "outputId": "3d452786-fba2-45cf-f6b9-76c0b0ef91b8"
      },
      "execution_count": null,
      "outputs": [
        {
          "output_type": "stream",
          "name": "stderr",
          "text": [
            "ERROR:root:Unexpected exception finding object shape\n",
            "Traceback (most recent call last):\n",
            "  File \"/usr/local/lib/python3.11/dist-packages/google/colab/_debugpy_repr.py\", line 54, in get_shape\n",
            "    shape = getattr(obj, 'shape', None)\n",
            "            ^^^^^^^^^^^^^^^^^^^^^^^^^^^\n",
            "  File \"/usr/local/lib/python3.11/dist-packages/werkzeug/local.py\", line 318, in __get__\n",
            "    obj = instance._get_current_object()\n",
            "          ^^^^^^^^^^^^^^^^^^^^^^^^^^^^^^\n",
            "  File \"/usr/local/lib/python3.11/dist-packages/werkzeug/local.py\", line 519, in _get_current_object\n",
            "    raise RuntimeError(unbound_message) from None\n",
            "RuntimeError: Working outside of request context.\n",
            "\n",
            "This typically means that you attempted to use functionality that needed\n",
            "an active HTTP request. Consult the documentation on testing for\n",
            "information about how to avoid this problem.\n",
            "ERROR:root:Unexpected exception finding object shape\n",
            "Traceback (most recent call last):\n",
            "  File \"/usr/local/lib/python3.11/dist-packages/google/colab/_debugpy_repr.py\", line 54, in get_shape\n",
            "    shape = getattr(obj, 'shape', None)\n",
            "            ^^^^^^^^^^^^^^^^^^^^^^^^^^^\n",
            "  File \"/usr/local/lib/python3.11/dist-packages/werkzeug/local.py\", line 318, in __get__\n",
            "    obj = instance._get_current_object()\n",
            "          ^^^^^^^^^^^^^^^^^^^^^^^^^^^^^^\n",
            "  File \"/usr/local/lib/python3.11/dist-packages/werkzeug/local.py\", line 519, in _get_current_object\n",
            "    raise RuntimeError(unbound_message) from None\n",
            "RuntimeError: Working outside of request context.\n",
            "\n",
            "This typically means that you attempted to use functionality that needed\n",
            "an active HTTP request. Consult the documentation on testing for\n",
            "information about how to avoid this problem.\n"
          ]
        },
        {
          "output_type": "stream",
          "name": "stdout",
          "text": [
            "\u001b[?25l   \u001b[90m━━━━━━━━━━━━━━━━━━━━━━━━━━━━━━━━━━━━━━━━\u001b[0m \u001b[32m0.0/1.6 MB\u001b[0m \u001b[31m?\u001b[0m eta \u001b[36m-:--:--\u001b[0m\r\u001b[2K   \u001b[91m━━━━━━━━━━━━━━━━\u001b[0m\u001b[91m╸\u001b[0m\u001b[90m━━━━━━━━━━━━━━━━━━━━━━━\u001b[0m \u001b[32m0.7/1.6 MB\u001b[0m \u001b[31m20.8 MB/s\u001b[0m eta \u001b[36m0:00:01\u001b[0m\r\u001b[2K   \u001b[90m━━━━━━━━━━━━━━━━━━━━━━━━━━━━━━━━━━━━━━━━\u001b[0m \u001b[32m1.6/1.6 MB\u001b[0m \u001b[31m26.8 MB/s\u001b[0m eta \u001b[36m0:00:00\u001b[0m\n",
            "\u001b[?25h"
          ]
        },
        {
          "output_type": "stream",
          "name": "stderr",
          "text": [
            "ERROR:root:Unexpected exception finding object shape\n",
            "Traceback (most recent call last):\n",
            "  File \"/usr/local/lib/python3.11/dist-packages/google/colab/_debugpy_repr.py\", line 54, in get_shape\n",
            "    shape = getattr(obj, 'shape', None)\n",
            "            ^^^^^^^^^^^^^^^^^^^^^^^^^^^\n",
            "  File \"/usr/local/lib/python3.11/dist-packages/werkzeug/local.py\", line 318, in __get__\n",
            "    obj = instance._get_current_object()\n",
            "          ^^^^^^^^^^^^^^^^^^^^^^^^^^^^^^\n",
            "  File \"/usr/local/lib/python3.11/dist-packages/werkzeug/local.py\", line 519, in _get_current_object\n",
            "    raise RuntimeError(unbound_message) from None\n",
            "RuntimeError: Working outside of request context.\n",
            "\n",
            "This typically means that you attempted to use functionality that needed\n",
            "an active HTTP request. Consult the documentation on testing for\n",
            "information about how to avoid this problem.\n",
            "ERROR:root:Unexpected exception finding object shape\n",
            "Traceback (most recent call last):\n",
            "  File \"/usr/local/lib/python3.11/dist-packages/google/colab/_debugpy_repr.py\", line 54, in get_shape\n",
            "    shape = getattr(obj, 'shape', None)\n",
            "            ^^^^^^^^^^^^^^^^^^^^^^^^^^^\n",
            "  File \"/usr/local/lib/python3.11/dist-packages/werkzeug/local.py\", line 318, in __get__\n",
            "    obj = instance._get_current_object()\n",
            "          ^^^^^^^^^^^^^^^^^^^^^^^^^^^^^^\n",
            "  File \"/usr/local/lib/python3.11/dist-packages/werkzeug/local.py\", line 519, in _get_current_object\n",
            "    raise RuntimeError(unbound_message) from None\n",
            "RuntimeError: Working outside of request context.\n",
            "\n",
            "This typically means that you attempted to use functionality that needed\n",
            "an active HTTP request. Consult the documentation on testing for\n",
            "information about how to avoid this problem.\n",
            "ERROR:root:Unexpected exception finding object shape\n",
            "Traceback (most recent call last):\n",
            "  File \"/usr/local/lib/python3.11/dist-packages/google/colab/_debugpy_repr.py\", line 54, in get_shape\n",
            "    shape = getattr(obj, 'shape', None)\n",
            "            ^^^^^^^^^^^^^^^^^^^^^^^^^^^\n",
            "  File \"/usr/local/lib/python3.11/dist-packages/werkzeug/local.py\", line 318, in __get__\n",
            "    obj = instance._get_current_object()\n",
            "          ^^^^^^^^^^^^^^^^^^^^^^^^^^^^^^\n",
            "  File \"/usr/local/lib/python3.11/dist-packages/werkzeug/local.py\", line 519, in _get_current_object\n",
            "    raise RuntimeError(unbound_message) from None\n",
            "RuntimeError: Working outside of request context.\n",
            "\n",
            "This typically means that you attempted to use functionality that needed\n",
            "an active HTTP request. Consult the documentation on testing for\n",
            "information about how to avoid this problem.\n"
          ]
        },
        {
          "output_type": "display_data",
          "data": {
            "text/plain": [
              "interactive(children=(Dropdown(description='📤 Send:', options=('Buy Signal', 'Sell Signal', 'NY Session Plan',…"
            ],
            "application/vnd.jupyter.widget-view+json": {
              "version_major": 2,
              "version_minor": 0,
              "model_id": "8bf0f8282b5444eab1733aa83105543b"
            }
          },
          "metadata": {}
        },
        {
          "output_type": "execute_result",
          "data": {
            "text/plain": [
              "<function __main__.send_signal(signal_type)>"
            ],
            "text/html": [
              "<div style=\"max-width:800px; border: 1px solid var(--colab-border-color);\"><style>\n",
              "      pre.function-repr-contents {\n",
              "        overflow-x: auto;\n",
              "        padding: 8px 12px;\n",
              "        max-height: 500px;\n",
              "      }\n",
              "\n",
              "      pre.function-repr-contents.function-repr-contents-collapsed {\n",
              "        cursor: pointer;\n",
              "        max-height: 100px;\n",
              "      }\n",
              "    </style>\n",
              "    <pre style=\"white-space: initial; background:\n",
              "         var(--colab-secondary-surface-color); padding: 8px 12px;\n",
              "         border-bottom: 1px solid var(--colab-border-color);\"><b>send_signal</b><br/>def send_signal(signal_type)</pre><pre class=\"function-repr-contents function-repr-contents-collapsed\" style=\"\"><a class=\"filepath\" style=\"display:none\" href=\"#\">/tmp/ipython-input-5-2476959022.py</a>&lt;no docstring&gt;</pre></div>"
            ]
          },
          "metadata": {},
          "execution_count": 5
        }
      ]
    }
  ]
}