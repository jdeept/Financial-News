{
  "metadata": {
    "kernelspec": {
      "language": "python",
      "display_name": "Python 3",
      "name": "python3"
    },
    "language_info": {
      "name": "python",
      "version": "3.11.13",
      "mimetype": "text/x-python",
      "codemirror_mode": {
        "name": "ipython",
        "version": 3
      },
      "pygments_lexer": "ipython3",
      "nbconvert_exporter": "python",
      "file_extension": ".py"
    },
    "kaggle": {
      "accelerator": "nvidiaTeslaT4",
      "dataSources": [
        {
          "sourceId": 12426931,
          "sourceType": "datasetVersion",
          "datasetId": 7838222
        }
      ],
      "isInternetEnabled": true,
      "language": "python",
      "sourceType": "notebook",
      "isGpuEnabled": true
    },
    "colab": {
      "name": "Personalized Offer System",
      "provenance": [],
      "include_colab_link": true
    }
  },
  "nbformat_minor": 0,
  "nbformat": 4,
  "cells": [
    {
      "cell_type": "markdown",
      "metadata": {
        "id": "view-in-github",
        "colab_type": "text"
      },
      "source": [
        "<a href=\"https://colab.research.google.com/github/jdeept/Financial-News/blob/main/Personalized_Offer_System.ipynb\" target=\"_parent\"><img src=\"https://colab.research.google.com/assets/colab-badge.svg\" alt=\"Open In Colab\"/></a>"
      ]
    },
    {
      "source": [
        "# IMPORTANT: SOME KAGGLE DATA SOURCES ARE PRIVATE\n",
        "# RUN THIS CELL IN ORDER TO IMPORT YOUR KAGGLE DATA SOURCES.\n",
        "import kagglehub\n",
        "kagglehub.login()\n"
      ],
      "metadata": {
        "id": "ltGfGXEjmEqd"
      },
      "cell_type": "code",
      "outputs": [],
      "execution_count": null
    },
    {
      "source": [
        "# IMPORTANT: RUN THIS CELL IN ORDER TO IMPORT YOUR KAGGLE DATA SOURCES,\n",
        "# THEN FEEL FREE TO DELETE THIS CELL.\n",
        "# NOTE: THIS NOTEBOOK ENVIRONMENT DIFFERS FROM KAGGLE'S PYTHON\n",
        "# ENVIRONMENT SO THERE MAY BE MISSING LIBRARIES USED BY YOUR\n",
        "# NOTEBOOK.\n",
        "\n",
        "jnyandeep0506_amex_final_lap_path = kagglehub.dataset_download('jnyandeep0506/amex-final-lap')\n",
        "\n",
        "print('Data source import complete.')\n"
      ],
      "metadata": {
        "id": "sWNQk6KomEqf"
      },
      "cell_type": "code",
      "outputs": [],
      "execution_count": null
    },
    {
      "cell_type": "code",
      "source": [
        "import pandas as pd\n",
        "import numpy as np\n",
        "import lightgbm as lgb\n",
        "import gc\n",
        "from pathlib import Path\n",
        "from sklearn.model_selection import GroupKFold"
      ],
      "metadata": {
        "_uuid": "8f2839f25d086af736a60e9eeb907d3b93b6e0e5",
        "_cell_guid": "b1076dfc-b9ad-4769-8c92-a6c4dae69d19",
        "trusted": true,
        "execution": {
          "iopub.status.busy": "2025-07-10T16:58:58.808756Z",
          "iopub.execute_input": "2025-07-10T16:58:58.809083Z",
          "iopub.status.idle": "2025-07-10T16:58:58.813436Z",
          "shell.execute_reply.started": "2025-07-10T16:58:58.809058Z",
          "shell.execute_reply": "2025-07-10T16:58:58.812502Z"
        },
        "id": "8bgyOC0UmEqf"
      },
      "outputs": [],
      "execution_count": null
    },
    {
      "cell_type": "code",
      "source": [
        "DATA_DIR = Path('/kaggle/input/amex-final-lap')\n",
        "WORK_DIR = Path('/kaggle/working/')\n",
        "\n",
        "# Load only selected columns to reduce memory footprint\n",
        "feature_cols = [f\"f{i}\" for i in range(1, 201)]  # adjust based on memory budget\n",
        "base_cols = ['id1', 'id2', 'id3', 'id4', 'id5', 'y']\n",
        "\n",
        "train_df = pd.read_parquet(DATA_DIR / 'train_data.parquet', columns=base_cols + feature_cols)\n",
        "test_df = pd.read_parquet(DATA_DIR / 'test_data.parquet', columns=[c for c in base_cols if c != 'y'] + feature_cols)\n",
        "offer_df = pd.read_parquet(DATA_DIR / 'offer_metadata (2).parquet')\n",
        "event_df = pd.read_parquet(DATA_DIR / 'add_event (1).parquet')\n",
        "trans_df = pd.read_parquet(DATA_DIR / 'add_trans (2).parquet')\n"
      ],
      "metadata": {
        "trusted": true,
        "execution": {
          "iopub.status.busy": "2025-07-10T17:32:18.87324Z",
          "iopub.execute_input": "2025-07-10T17:32:18.873555Z",
          "iopub.status.idle": "2025-07-10T17:32:46.314679Z",
          "shell.execute_reply.started": "2025-07-10T17:32:18.87353Z",
          "shell.execute_reply": "2025-07-10T17:32:46.313772Z"
        },
        "id": "0puMP0J_mEqg"
      },
      "outputs": [],
      "execution_count": null
    },
    {
      "cell_type": "code",
      "source": [
        "for df in [train_df, test_df, trans_df]:\n",
        "    for col in df.select_dtypes(include='float64').columns:\n",
        "        df[col] = df[col].astype('float32')\n",
        "    for col in df.select_dtypes(include='int64').columns:\n",
        "        df[col] = df[col].astype('int32')\n"
      ],
      "metadata": {
        "trusted": true,
        "execution": {
          "iopub.status.busy": "2025-07-10T17:34:05.784282Z",
          "iopub.execute_input": "2025-07-10T17:34:05.78464Z",
          "iopub.status.idle": "2025-07-10T17:34:05.790026Z",
          "shell.execute_reply.started": "2025-07-10T17:34:05.784612Z",
          "shell.execute_reply": "2025-07-10T17:34:05.789316Z"
        },
        "id": "RqVt0BRamEqg"
      },
      "outputs": [],
      "execution_count": null
    },
    {
      "cell_type": "code",
      "source": [
        "# --- DEBUG: Print data types of all files ---\n",
        "print(\"\\n📊 train_df.dtypes:\")\n",
        "print(train_df.dtypes)\n",
        "\n",
        "print(\"\\n📊 test_df.dtypes:\")\n",
        "print(test_df.dtypes)\n",
        "\n",
        "print(\"\\n📊 offer_df.dtypes:\")\n",
        "print(offer_df.dtypes)\n",
        "\n",
        "print(\"\\n📊 event_df.dtypes:\")\n",
        "print(event_df.dtypes)\n",
        "\n",
        "print(\"\\n📊 trans_df.dtypes:\")\n",
        "print(trans_df.dtypes)\n",
        "\n",
        "# Optional: After preprocessing\n",
        "print(\"\\n📊 combined_df.dtypes (after merge):\")\n",
        "print(combined_df.dtypes)\n"
      ],
      "metadata": {
        "trusted": true,
        "execution": {
          "iopub.status.busy": "2025-07-10T17:11:40.986519Z",
          "iopub.execute_input": "2025-07-10T17:11:40.987226Z",
          "iopub.status.idle": "2025-07-10T17:11:40.998033Z",
          "shell.execute_reply.started": "2025-07-10T17:11:40.9872Z",
          "shell.execute_reply": "2025-07-10T17:11:40.997144Z"
        },
        "id": "fhpN4lBZmEqg",
        "outputId": "86a589a7-c47e-417c-fd27-7207cd7b198c"
      },
      "outputs": [
        {
          "name": "stdout",
          "text": "\n📊 train_df.dtypes:\nid1     object\nid2     object\nid3     object\nid4     object\nid5     object\n         ...  \nf196    object\nf197    object\nf198    object\nf199    object\nf200    object\nLength: 206, dtype: object\n\n📊 test_df.dtypes:\nid1     object\nid2     object\nid3     object\nid4     object\nid5     object\n         ...  \nf196    object\nf197    object\nf198    object\nf199    object\nf200    object\nLength: 205, dtype: object\n\n📊 offer_df.dtypes:\nid3       int32\nid9      object\nf375      int32\nf376    float64\nf377     object\nid10     object\nid11     object\nf378     object\nf374     object\nid8      object\nid12     object\nid13     object\ndtype: object\n\n📊 event_df.dtypes:\nid2     int32\nid3    object\nid6    object\nid4    object\nid7    object\ndtype: object\n\n📊 trans_df.dtypes:\nid2       int32\nf367    float32\nf368     object\nf369     object\nf370     object\nf371     object\nf372     object\nid8      object\nf374     object\ndtype: object\n\n📊 combined_df.dtypes (after merge):\nid1                          object\nid2                           int32\nid3                           int32\nid4                  datetime64[ns]\nid5                  datetime64[ns]\n                          ...      \ntotal_impressions           float64\navg_spend                   float32\ntotal_spend                 float32\ntx_count                    float64\nspend_std                   float64\nLength: 229, dtype: object\n",
          "output_type": "stream"
        }
      ],
      "execution_count": null
    },
    {
      "cell_type": "code",
      "source": [
        "# --- 2. PREPROCESSING ---\n",
        "\n",
        "# Convert id columns to numeric as needed\n",
        "combined_df['id2'] = pd.to_numeric(combined_df['id2'], errors='coerce').astype('int32')\n",
        "combined_df['id3'] = pd.to_numeric(combined_df['id3'], errors='coerce').astype('int32')\n",
        "offer_df['id3'] = pd.to_numeric(offer_df['id3'], errors='coerce').astype('int32')\n",
        "event_df['id2'] = pd.to_numeric(event_df['id2'], errors='coerce').astype('int32')\n",
        "trans_df['id2'] = pd.to_numeric(trans_df['id2'], errors='coerce').astype('int32')\n",
        "train_df['is_train'] = 1\n",
        "test_df['is_train'] = 0\n",
        "test_df['y'] = np.nan  # placeholder for concat\n",
        "combined_df = pd.concat([train_df, test_df], ignore_index=True)\n",
        "del train_df, test_df; gc.collect()\n",
        "\n",
        "# Convert datetime columns\n",
        "combined_df['id4'] = pd.to_datetime(combined_df['id4'], errors='coerce')\n",
        "combined_df['id5'] = pd.to_datetime(combined_df['id5'], errors='coerce')\n",
        "offer_df['id12'] = pd.to_datetime(offer_df['id12'], errors='coerce')\n",
        "offer_df['id13'] = pd.to_datetime(offer_df['id13'], errors='coerce')\n",
        "trans_df['f370'] = pd.to_datetime(trans_df['f370'], errors='coerce')\n",
        "combined_df['id4'] = pd.to_datetime(combined_df['id4'], errors='coerce')\n",
        "combined_df['id5'] = pd.to_datetime(combined_df['id5'], errors='coerce')\n",
        "offer_df['id12'] = pd.to_datetime(offer_df['id12'], errors='coerce')\n",
        "offer_df['id13'] = pd.to_datetime(offer_df['id13'], errors='coerce')\n",
        "\n",
        "# Ensure id3 is of same type before merging\n",
        "combined_df['id3'] = pd.to_numeric(combined_df['id3'], errors='coerce')\n",
        "offer_df['id3'] = pd.to_numeric(offer_df['id3'], errors='coerce')\n",
        "combined_df['id3'] = combined_df['id3'].astype('int32')\n",
        "offer_df['id3'] = offer_df['id3'].astype('int32')\n",
        "\n",
        "# Merge offer metadata\n",
        "combined_df = combined_df.merge(offer_df, on='id3', how='left')\n",
        "\n",
        "# Fix datetime columns post-merge\n",
        "combined_df['id12'] = pd.to_datetime(combined_df['id12'], errors='coerce')\n",
        "combined_df['id13'] = pd.to_datetime(combined_df['id13'], errors='coerce')\n",
        "del offer_df; gc.collect()\n",
        "\n",
        "# Sort for time-based features\n",
        "combined_df = combined_df.sort_values(by=['id2', 'id4']).reset_index(drop=True)\n",
        "\n",
        "# ✅ Final sort enforcement\n",
        "combined_df = combined_df.sort_values(by=['id2', 'id4']).reset_index(drop=True)\n",
        "trans_df = trans_df.sort_values(by=['id2', 'f370']).reset_index(drop=True)\n",
        "\n",
        "\n",
        "# Time-based features\n",
        "combined_df['time_since_last_impression'] = combined_df.groupby('id2')['id4'].diff().dt.total_seconds()\n",
        "combined_df['impression_rank'] = combined_df.groupby('id2').cumcount() + 1\n",
        "combined_df['times_seen_offer'] = combined_df.groupby(['id2', 'id3']).cumcount()\n",
        "combined_df['offer_duration_days'] = (combined_df['id13'] - combined_df['id12']).dt.days\n",
        "combined_df['dayofweek'] = combined_df['id4'].dt.dayofweek\n",
        "combined_df['hour'] = combined_df['id4'].dt.hour\n",
        "\n",
        "# Ensure id2 types match before merging on it\n",
        "combined_df['id2'] = pd.to_numeric(combined_df['id2'], errors='coerce').astype('int32')\n",
        "event_df['id2'] = pd.to_numeric(event_df['id2'], errors='coerce').astype('int32')\n",
        "\n",
        "# Event features\n",
        "event_agg = event_df.groupby('id2')['id3'].count().reset_index()\n",
        "event_agg.columns = ['id2', 'total_impressions']\n",
        "combined_df = combined_df.merge(event_agg, on='id2', how='left')\n",
        "del event_df, event_agg; gc.collect()\n",
        "\n",
        "# Ensure id2 type is consistent in trans_df\n",
        "trans_df['id2'] = pd.to_numeric(trans_df['id2'], errors='coerce').astype('int32')\n",
        "\n",
        "# Transaction features\n",
        "trans_df['f370'] = pd.to_datetime(trans_df['f370'], errors='coerce')\n",
        "trans_agg = trans_df.groupby('id2')['f367'].agg(['mean', 'sum', 'count', 'std']).reset_index()\n",
        "trans_agg.columns = ['id2', 'avg_spend', 'total_spend', 'tx_count', 'spend_std']\n",
        "combined_df = combined_df.merge(trans_agg, on='id2', how='left')\n",
        "combined_df = combined_df.sort_values(by=['id2', 'id4'])\n",
        "trans_df = trans_df.sort_values(by=['id2', 'f370']).reset_index(drop=True)\n",
        "combined_df = pd.merge_asof(\n",
        "    combined_df,\n",
        "    trans_df[['id2', 'f370', 'f367']],\n",
        "    left_on='id4', right_on='f370', by='id2', direction='backward')\n",
        "combined_df['time_since_last_tx'] = (combined_df['id4'] - combined_df['f370']).dt.total_seconds()\n",
        "combined_df.drop(columns=['f370'], inplace=True)\n",
        "del trans_df, trans_agg; gc.collect()"
      ],
      "metadata": {
        "trusted": true,
        "execution": {
          "iopub.status.busy": "2025-07-10T17:34:11.335047Z",
          "iopub.execute_input": "2025-07-10T17:34:11.335333Z",
          "iopub.status.idle": "2025-07-10T17:35:15.299568Z",
          "shell.execute_reply.started": "2025-07-10T17:34:11.335309Z",
          "shell.execute_reply": "2025-07-10T17:35:15.298622Z"
        },
        "id": "DJHVGobwmEqh",
        "outputId": "5761cde6-755e-46fa-8270-3563f9d353c2"
      },
      "outputs": [
        {
          "traceback": [
            "\u001b[0;31m---------------------------------------------------------------------------\u001b[0m",
            "\u001b[0;31mValueError\u001b[0m                                Traceback (most recent call last)",
            "\u001b[0;32m/tmp/ipykernel_111/894863672.py\u001b[0m in \u001b[0;36m<cell line: 0>\u001b[0;34m()\u001b[0m\n\u001b[1;32m     74\u001b[0m \u001b[0mcombined_df\u001b[0m \u001b[0;34m=\u001b[0m \u001b[0mcombined_df\u001b[0m\u001b[0;34m.\u001b[0m\u001b[0msort_values\u001b[0m\u001b[0;34m(\u001b[0m\u001b[0mby\u001b[0m\u001b[0;34m=\u001b[0m\u001b[0;34m[\u001b[0m\u001b[0;34m'id2'\u001b[0m\u001b[0;34m,\u001b[0m \u001b[0;34m'id4'\u001b[0m\u001b[0;34m]\u001b[0m\u001b[0;34m)\u001b[0m\u001b[0;34m\u001b[0m\u001b[0;34m\u001b[0m\u001b[0m\n\u001b[1;32m     75\u001b[0m \u001b[0mtrans_df\u001b[0m \u001b[0;34m=\u001b[0m \u001b[0mtrans_df\u001b[0m\u001b[0;34m.\u001b[0m\u001b[0msort_values\u001b[0m\u001b[0;34m(\u001b[0m\u001b[0mby\u001b[0m\u001b[0;34m=\u001b[0m\u001b[0;34m[\u001b[0m\u001b[0;34m'id2'\u001b[0m\u001b[0;34m,\u001b[0m \u001b[0;34m'f370'\u001b[0m\u001b[0;34m]\u001b[0m\u001b[0;34m)\u001b[0m\u001b[0;34m.\u001b[0m\u001b[0mreset_index\u001b[0m\u001b[0;34m(\u001b[0m\u001b[0mdrop\u001b[0m\u001b[0;34m=\u001b[0m\u001b[0;32mTrue\u001b[0m\u001b[0;34m)\u001b[0m\u001b[0;34m\u001b[0m\u001b[0;34m\u001b[0m\u001b[0m\n\u001b[0;32m---> 76\u001b[0;31m combined_df = pd.merge_asof(\n\u001b[0m\u001b[1;32m     77\u001b[0m     \u001b[0mcombined_df\u001b[0m\u001b[0;34m,\u001b[0m\u001b[0;34m\u001b[0m\u001b[0;34m\u001b[0m\u001b[0m\n\u001b[1;32m     78\u001b[0m     \u001b[0mtrans_df\u001b[0m\u001b[0;34m[\u001b[0m\u001b[0;34m[\u001b[0m\u001b[0;34m'id2'\u001b[0m\u001b[0;34m,\u001b[0m \u001b[0;34m'f370'\u001b[0m\u001b[0;34m,\u001b[0m \u001b[0;34m'f367'\u001b[0m\u001b[0;34m]\u001b[0m\u001b[0;34m]\u001b[0m\u001b[0;34m,\u001b[0m\u001b[0;34m\u001b[0m\u001b[0;34m\u001b[0m\u001b[0m\n",
            "\u001b[0;32m/usr/local/lib/python3.11/dist-packages/pandas/core/reshape/merge.py\u001b[0m in \u001b[0;36mmerge_asof\u001b[0;34m(left, right, on, left_on, right_on, left_index, right_index, by, left_by, right_by, suffixes, tolerance, allow_exact_matches, direction)\u001b[0m\n\u001b[1;32m    706\u001b[0m         \u001b[0mdirection\u001b[0m\u001b[0;34m=\u001b[0m\u001b[0mdirection\u001b[0m\u001b[0;34m,\u001b[0m\u001b[0;34m\u001b[0m\u001b[0;34m\u001b[0m\u001b[0m\n\u001b[1;32m    707\u001b[0m     )\n\u001b[0;32m--> 708\u001b[0;31m     \u001b[0;32mreturn\u001b[0m \u001b[0mop\u001b[0m\u001b[0;34m.\u001b[0m\u001b[0mget_result\u001b[0m\u001b[0;34m(\u001b[0m\u001b[0;34m)\u001b[0m\u001b[0;34m\u001b[0m\u001b[0;34m\u001b[0m\u001b[0m\n\u001b[0m\u001b[1;32m    709\u001b[0m \u001b[0;34m\u001b[0m\u001b[0m\n\u001b[1;32m    710\u001b[0m \u001b[0;34m\u001b[0m\u001b[0m\n",
            "\u001b[0;32m/usr/local/lib/python3.11/dist-packages/pandas/core/reshape/merge.py\u001b[0m in \u001b[0;36mget_result\u001b[0;34m(self, copy)\u001b[0m\n\u001b[1;32m   1924\u001b[0m \u001b[0;34m\u001b[0m\u001b[0m\n\u001b[1;32m   1925\u001b[0m     \u001b[0;32mdef\u001b[0m \u001b[0mget_result\u001b[0m\u001b[0;34m(\u001b[0m\u001b[0mself\u001b[0m\u001b[0;34m,\u001b[0m \u001b[0mcopy\u001b[0m\u001b[0;34m:\u001b[0m \u001b[0mbool\u001b[0m \u001b[0;34m|\u001b[0m \u001b[0;32mNone\u001b[0m \u001b[0;34m=\u001b[0m \u001b[0;32mTrue\u001b[0m\u001b[0;34m)\u001b[0m \u001b[0;34m->\u001b[0m \u001b[0mDataFrame\u001b[0m\u001b[0;34m:\u001b[0m\u001b[0;34m\u001b[0m\u001b[0;34m\u001b[0m\u001b[0m\n\u001b[0;32m-> 1926\u001b[0;31m         \u001b[0mjoin_index\u001b[0m\u001b[0;34m,\u001b[0m \u001b[0mleft_indexer\u001b[0m\u001b[0;34m,\u001b[0m \u001b[0mright_indexer\u001b[0m \u001b[0;34m=\u001b[0m \u001b[0mself\u001b[0m\u001b[0;34m.\u001b[0m\u001b[0m_get_join_info\u001b[0m\u001b[0;34m(\u001b[0m\u001b[0;34m)\u001b[0m\u001b[0;34m\u001b[0m\u001b[0;34m\u001b[0m\u001b[0m\n\u001b[0m\u001b[1;32m   1927\u001b[0m \u001b[0;34m\u001b[0m\u001b[0m\n\u001b[1;32m   1928\u001b[0m         \u001b[0mleft_join_indexer\u001b[0m\u001b[0;34m:\u001b[0m \u001b[0mnpt\u001b[0m\u001b[0;34m.\u001b[0m\u001b[0mNDArray\u001b[0m\u001b[0;34m[\u001b[0m\u001b[0mnp\u001b[0m\u001b[0;34m.\u001b[0m\u001b[0mintp\u001b[0m\u001b[0;34m]\u001b[0m \u001b[0;34m|\u001b[0m \u001b[0;32mNone\u001b[0m\u001b[0;34m\u001b[0m\u001b[0;34m\u001b[0m\u001b[0m\n",
            "\u001b[0;32m/usr/local/lib/python3.11/dist-packages/pandas/core/reshape/merge.py\u001b[0m in \u001b[0;36m_get_join_info\u001b[0;34m(self)\u001b[0m\n\u001b[1;32m   1149\u001b[0m             )\n\u001b[1;32m   1150\u001b[0m         \u001b[0;32melse\u001b[0m\u001b[0;34m:\u001b[0m\u001b[0;34m\u001b[0m\u001b[0;34m\u001b[0m\u001b[0m\n\u001b[0;32m-> 1151\u001b[0;31m             \u001b[0;34m(\u001b[0m\u001b[0mleft_indexer\u001b[0m\u001b[0;34m,\u001b[0m \u001b[0mright_indexer\u001b[0m\u001b[0;34m)\u001b[0m \u001b[0;34m=\u001b[0m \u001b[0mself\u001b[0m\u001b[0;34m.\u001b[0m\u001b[0m_get_join_indexers\u001b[0m\u001b[0;34m(\u001b[0m\u001b[0;34m)\u001b[0m\u001b[0;34m\u001b[0m\u001b[0;34m\u001b[0m\u001b[0m\n\u001b[0m\u001b[1;32m   1152\u001b[0m \u001b[0;34m\u001b[0m\u001b[0m\n\u001b[1;32m   1153\u001b[0m             \u001b[0;32mif\u001b[0m \u001b[0mself\u001b[0m\u001b[0;34m.\u001b[0m\u001b[0mright_index\u001b[0m\u001b[0;34m:\u001b[0m\u001b[0;34m\u001b[0m\u001b[0;34m\u001b[0m\u001b[0m\n",
            "\u001b[0;32m/usr/local/lib/python3.11/dist-packages/pandas/core/reshape/merge.py\u001b[0m in \u001b[0;36m_get_join_indexers\u001b[0;34m(self)\u001b[0m\n\u001b[1;32m   2236\u001b[0m \u001b[0;34m\u001b[0m\u001b[0m\n\u001b[1;32m   2237\u001b[0m         \u001b[0;31m# initial type conversion as needed\u001b[0m\u001b[0;34m\u001b[0m\u001b[0;34m\u001b[0m\u001b[0m\n\u001b[0;32m-> 2238\u001b[0;31m         \u001b[0mleft_values\u001b[0m \u001b[0;34m=\u001b[0m \u001b[0mself\u001b[0m\u001b[0;34m.\u001b[0m\u001b[0m_convert_values_for_libjoin\u001b[0m\u001b[0;34m(\u001b[0m\u001b[0mleft_values\u001b[0m\u001b[0;34m,\u001b[0m \u001b[0;34m\"left\"\u001b[0m\u001b[0;34m)\u001b[0m\u001b[0;34m\u001b[0m\u001b[0;34m\u001b[0m\u001b[0m\n\u001b[0m\u001b[1;32m   2239\u001b[0m         \u001b[0mright_values\u001b[0m \u001b[0;34m=\u001b[0m \u001b[0mself\u001b[0m\u001b[0;34m.\u001b[0m\u001b[0m_convert_values_for_libjoin\u001b[0m\u001b[0;34m(\u001b[0m\u001b[0mright_values\u001b[0m\u001b[0;34m,\u001b[0m \u001b[0;34m\"right\"\u001b[0m\u001b[0;34m)\u001b[0m\u001b[0;34m\u001b[0m\u001b[0;34m\u001b[0m\u001b[0m\n\u001b[1;32m   2240\u001b[0m \u001b[0;34m\u001b[0m\u001b[0m\n",
            "\u001b[0;32m/usr/local/lib/python3.11/dist-packages/pandas/core/reshape/merge.py\u001b[0m in \u001b[0;36m_convert_values_for_libjoin\u001b[0;34m(self, values, side)\u001b[0m\n\u001b[1;32m   2180\u001b[0m             \u001b[0;32mif\u001b[0m \u001b[0misna\u001b[0m\u001b[0;34m(\u001b[0m\u001b[0mvalues\u001b[0m\u001b[0;34m)\u001b[0m\u001b[0;34m.\u001b[0m\u001b[0many\u001b[0m\u001b[0;34m(\u001b[0m\u001b[0;34m)\u001b[0m\u001b[0;34m:\u001b[0m\u001b[0;34m\u001b[0m\u001b[0;34m\u001b[0m\u001b[0m\n\u001b[1;32m   2181\u001b[0m                 \u001b[0;32mraise\u001b[0m \u001b[0mValueError\u001b[0m\u001b[0;34m(\u001b[0m\u001b[0;34mf\"Merge keys contain null values on {side} side\"\u001b[0m\u001b[0;34m)\u001b[0m\u001b[0;34m\u001b[0m\u001b[0;34m\u001b[0m\u001b[0m\n\u001b[0;32m-> 2182\u001b[0;31m             \u001b[0;32mraise\u001b[0m \u001b[0mValueError\u001b[0m\u001b[0;34m(\u001b[0m\u001b[0;34mf\"{side} keys must be sorted\"\u001b[0m\u001b[0;34m)\u001b[0m\u001b[0;34m\u001b[0m\u001b[0;34m\u001b[0m\u001b[0m\n\u001b[0m\u001b[1;32m   2183\u001b[0m \u001b[0;34m\u001b[0m\u001b[0m\n\u001b[1;32m   2184\u001b[0m         \u001b[0;32mif\u001b[0m \u001b[0misinstance\u001b[0m\u001b[0;34m(\u001b[0m\u001b[0mvalues\u001b[0m\u001b[0;34m,\u001b[0m \u001b[0mArrowExtensionArray\u001b[0m\u001b[0;34m)\u001b[0m\u001b[0;34m:\u001b[0m\u001b[0;34m\u001b[0m\u001b[0;34m\u001b[0m\u001b[0m\n",
            "\u001b[0;31mValueError\u001b[0m: left keys must be sorted"
          ],
          "ename": "ValueError",
          "evalue": "left keys must be sorted",
          "output_type": "error"
        }
      ],
      "execution_count": null
    },
    {
      "cell_type": "code",
      "source": [
        "!rm -rf /kaggle/working/*\n"
      ],
      "metadata": {
        "trusted": true,
        "execution": {
          "iopub.status.busy": "2025-07-10T16:40:25.402741Z",
          "iopub.execute_input": "2025-07-10T16:40:25.40329Z",
          "iopub.status.idle": "2025-07-10T16:40:25.756151Z",
          "shell.execute_reply.started": "2025-07-10T16:40:25.403259Z",
          "shell.execute_reply": "2025-07-10T16:40:25.755122Z"
        },
        "id": "wxKZiMmamEqi"
      },
      "outputs": [],
      "execution_count": null
    }
  ]
}